{
 "cells": [
  {
   "cell_type": "code",
   "execution_count": 1,
   "id": "5e0ecca0",
   "metadata": {},
   "outputs": [],
   "source": [
    "import pandas as pd"
   ]
  },
  {
   "cell_type": "code",
   "execution_count": 2,
   "id": "8b2e2d86",
   "metadata": {},
   "outputs": [],
   "source": [
    "babies = pd.read_csv('../data/baby_names_all_years.csv')"
   ]
  },
  {
   "cell_type": "code",
   "execution_count": 3,
   "id": "14beb892",
   "metadata": {},
   "outputs": [
    {
     "data": {
      "text/html": [
       "<div>\n",
       "<style scoped>\n",
       "    .dataframe tbody tr th:only-of-type {\n",
       "        vertical-align: middle;\n",
       "    }\n",
       "\n",
       "    .dataframe tbody tr th {\n",
       "        vertical-align: top;\n",
       "    }\n",
       "\n",
       "    .dataframe thead th {\n",
       "        text-align: right;\n",
       "    }\n",
       "</style>\n",
       "<table border=\"1\" class=\"dataframe\">\n",
       "  <thead>\n",
       "    <tr style=\"text-align: right;\">\n",
       "      <th></th>\n",
       "      <th>name</th>\n",
       "      <th>gender</th>\n",
       "      <th>frequency</th>\n",
       "      <th>year</th>\n",
       "    </tr>\n",
       "  </thead>\n",
       "  <tbody>\n",
       "    <tr>\n",
       "      <th>0</th>\n",
       "      <td>Mary</td>\n",
       "      <td>F</td>\n",
       "      <td>7065</td>\n",
       "      <td>1880.0</td>\n",
       "    </tr>\n",
       "    <tr>\n",
       "      <th>1</th>\n",
       "      <td>Anna</td>\n",
       "      <td>F</td>\n",
       "      <td>2604</td>\n",
       "      <td>1880.0</td>\n",
       "    </tr>\n",
       "    <tr>\n",
       "      <th>2</th>\n",
       "      <td>Emma</td>\n",
       "      <td>F</td>\n",
       "      <td>2003</td>\n",
       "      <td>1880.0</td>\n",
       "    </tr>\n",
       "    <tr>\n",
       "      <th>3</th>\n",
       "      <td>Elizabeth</td>\n",
       "      <td>F</td>\n",
       "      <td>1939</td>\n",
       "      <td>1880.0</td>\n",
       "    </tr>\n",
       "    <tr>\n",
       "      <th>4</th>\n",
       "      <td>Minnie</td>\n",
       "      <td>F</td>\n",
       "      <td>1746</td>\n",
       "      <td>1880.0</td>\n",
       "    </tr>\n",
       "    <tr>\n",
       "      <th>...</th>\n",
       "      <td>...</td>\n",
       "      <td>...</td>\n",
       "      <td>...</td>\n",
       "      <td>...</td>\n",
       "    </tr>\n",
       "    <tr>\n",
       "      <th>2052776</th>\n",
       "      <td>Zyeire</td>\n",
       "      <td>M</td>\n",
       "      <td>5</td>\n",
       "      <td>2021.0</td>\n",
       "    </tr>\n",
       "    <tr>\n",
       "      <th>2052777</th>\n",
       "      <td>Zyel</td>\n",
       "      <td>M</td>\n",
       "      <td>5</td>\n",
       "      <td>2021.0</td>\n",
       "    </tr>\n",
       "    <tr>\n",
       "      <th>2052778</th>\n",
       "      <td>Zyian</td>\n",
       "      <td>M</td>\n",
       "      <td>5</td>\n",
       "      <td>2021.0</td>\n",
       "    </tr>\n",
       "    <tr>\n",
       "      <th>2052779</th>\n",
       "      <td>Zylar</td>\n",
       "      <td>M</td>\n",
       "      <td>5</td>\n",
       "      <td>2021.0</td>\n",
       "    </tr>\n",
       "    <tr>\n",
       "      <th>2052780</th>\n",
       "      <td>Zyn</td>\n",
       "      <td>M</td>\n",
       "      <td>5</td>\n",
       "      <td>2021.0</td>\n",
       "    </tr>\n",
       "  </tbody>\n",
       "</table>\n",
       "<p>2052781 rows × 4 columns</p>\n",
       "</div>"
      ],
      "text/plain": [
       "              name gender  frequency    year\n",
       "0             Mary      F       7065  1880.0\n",
       "1             Anna      F       2604  1880.0\n",
       "2             Emma      F       2003  1880.0\n",
       "3        Elizabeth      F       1939  1880.0\n",
       "4           Minnie      F       1746  1880.0\n",
       "...            ...    ...        ...     ...\n",
       "2052776     Zyeire      M          5  2021.0\n",
       "2052777       Zyel      M          5  2021.0\n",
       "2052778      Zyian      M          5  2021.0\n",
       "2052779      Zylar      M          5  2021.0\n",
       "2052780        Zyn      M          5  2021.0\n",
       "\n",
       "[2052781 rows x 4 columns]"
      ]
     },
     "execution_count": 3,
     "metadata": {},
     "output_type": "execute_result"
    }
   ],
   "source": [
    "babies"
   ]
  },
  {
   "cell_type": "markdown",
   "id": "f93a5fb0",
   "metadata": {},
   "source": [
    "### I aim to prove that the gender equality that we are aming for,is also being reflected in the babies names, that names tend to be less genderized."
   ]
  },
  {
   "cell_type": "markdown",
   "id": "80f84e73",
   "metadata": {},
   "source": [
    "### filtering female babies"
   ]
  },
  {
   "cell_type": "code",
   "execution_count": 4,
   "id": "69e69f81",
   "metadata": {},
   "outputs": [],
   "source": [
    "filtfem=(babies['gender']=='F')"
   ]
  },
  {
   "cell_type": "code",
   "execution_count": 5,
   "id": "79110782",
   "metadata": {},
   "outputs": [
    {
     "data": {
      "text/html": [
       "<div>\n",
       "<style scoped>\n",
       "    .dataframe tbody tr th:only-of-type {\n",
       "        vertical-align: middle;\n",
       "    }\n",
       "\n",
       "    .dataframe tbody tr th {\n",
       "        vertical-align: top;\n",
       "    }\n",
       "\n",
       "    .dataframe thead th {\n",
       "        text-align: right;\n",
       "    }\n",
       "</style>\n",
       "<table border=\"1\" class=\"dataframe\">\n",
       "  <thead>\n",
       "    <tr style=\"text-align: right;\">\n",
       "      <th></th>\n",
       "      <th>name</th>\n",
       "      <th>gender</th>\n",
       "      <th>frequency</th>\n",
       "      <th>year</th>\n",
       "    </tr>\n",
       "  </thead>\n",
       "  <tbody>\n",
       "    <tr>\n",
       "      <th>0</th>\n",
       "      <td>Mary</td>\n",
       "      <td>F</td>\n",
       "      <td>7065</td>\n",
       "      <td>1880.0</td>\n",
       "    </tr>\n",
       "    <tr>\n",
       "      <th>1</th>\n",
       "      <td>Anna</td>\n",
       "      <td>F</td>\n",
       "      <td>2604</td>\n",
       "      <td>1880.0</td>\n",
       "    </tr>\n",
       "    <tr>\n",
       "      <th>2</th>\n",
       "      <td>Emma</td>\n",
       "      <td>F</td>\n",
       "      <td>2003</td>\n",
       "      <td>1880.0</td>\n",
       "    </tr>\n",
       "    <tr>\n",
       "      <th>3</th>\n",
       "      <td>Elizabeth</td>\n",
       "      <td>F</td>\n",
       "      <td>1939</td>\n",
       "      <td>1880.0</td>\n",
       "    </tr>\n",
       "    <tr>\n",
       "      <th>4</th>\n",
       "      <td>Minnie</td>\n",
       "      <td>F</td>\n",
       "      <td>1746</td>\n",
       "      <td>1880.0</td>\n",
       "    </tr>\n",
       "    <tr>\n",
       "      <th>...</th>\n",
       "      <td>...</td>\n",
       "      <td>...</td>\n",
       "      <td>...</td>\n",
       "      <td>...</td>\n",
       "    </tr>\n",
       "    <tr>\n",
       "      <th>2038783</th>\n",
       "      <td>Zylynn</td>\n",
       "      <td>F</td>\n",
       "      <td>5</td>\n",
       "      <td>2021.0</td>\n",
       "    </tr>\n",
       "    <tr>\n",
       "      <th>2038784</th>\n",
       "      <td>Zynovia</td>\n",
       "      <td>F</td>\n",
       "      <td>5</td>\n",
       "      <td>2021.0</td>\n",
       "    </tr>\n",
       "    <tr>\n",
       "      <th>2038785</th>\n",
       "      <td>Zyona</td>\n",
       "      <td>F</td>\n",
       "      <td>5</td>\n",
       "      <td>2021.0</td>\n",
       "    </tr>\n",
       "    <tr>\n",
       "      <th>2038786</th>\n",
       "      <td>Zyri</td>\n",
       "      <td>F</td>\n",
       "      <td>5</td>\n",
       "      <td>2021.0</td>\n",
       "    </tr>\n",
       "    <tr>\n",
       "      <th>2038787</th>\n",
       "      <td>Zyrihanna</td>\n",
       "      <td>F</td>\n",
       "      <td>5</td>\n",
       "      <td>2021.0</td>\n",
       "    </tr>\n",
       "  </tbody>\n",
       "</table>\n",
       "<p>1209866 rows × 4 columns</p>\n",
       "</div>"
      ],
      "text/plain": [
       "              name gender  frequency    year\n",
       "0             Mary      F       7065  1880.0\n",
       "1             Anna      F       2604  1880.0\n",
       "2             Emma      F       2003  1880.0\n",
       "3        Elizabeth      F       1939  1880.0\n",
       "4           Minnie      F       1746  1880.0\n",
       "...            ...    ...        ...     ...\n",
       "2038783     Zylynn      F          5  2021.0\n",
       "2038784    Zynovia      F          5  2021.0\n",
       "2038785      Zyona      F          5  2021.0\n",
       "2038786       Zyri      F          5  2021.0\n",
       "2038787  Zyrihanna      F          5  2021.0\n",
       "\n",
       "[1209866 rows x 4 columns]"
      ]
     },
     "execution_count": 5,
     "metadata": {},
     "output_type": "execute_result"
    }
   ],
   "source": [
    "babies[filtfem]"
   ]
  },
  {
   "cell_type": "markdown",
   "id": "988a2d43",
   "metadata": {},
   "source": [
    "## filtering Male babies"
   ]
  },
  {
   "cell_type": "code",
   "execution_count": 6,
   "id": "81c65eab",
   "metadata": {},
   "outputs": [],
   "source": [
    "filtmasc=(babies['gender']=='M')"
   ]
  },
  {
   "cell_type": "code",
   "execution_count": 7,
   "id": "5293c83e",
   "metadata": {},
   "outputs": [
    {
     "data": {
      "text/html": [
       "<div>\n",
       "<style scoped>\n",
       "    .dataframe tbody tr th:only-of-type {\n",
       "        vertical-align: middle;\n",
       "    }\n",
       "\n",
       "    .dataframe tbody tr th {\n",
       "        vertical-align: top;\n",
       "    }\n",
       "\n",
       "    .dataframe thead th {\n",
       "        text-align: right;\n",
       "    }\n",
       "</style>\n",
       "<table border=\"1\" class=\"dataframe\">\n",
       "  <thead>\n",
       "    <tr style=\"text-align: right;\">\n",
       "      <th></th>\n",
       "      <th>name</th>\n",
       "      <th>gender</th>\n",
       "      <th>frequency</th>\n",
       "      <th>year</th>\n",
       "    </tr>\n",
       "  </thead>\n",
       "  <tbody>\n",
       "    <tr>\n",
       "      <th>942</th>\n",
       "      <td>John</td>\n",
       "      <td>M</td>\n",
       "      <td>9655</td>\n",
       "      <td>1880.0</td>\n",
       "    </tr>\n",
       "    <tr>\n",
       "      <th>943</th>\n",
       "      <td>William</td>\n",
       "      <td>M</td>\n",
       "      <td>9532</td>\n",
       "      <td>1880.0</td>\n",
       "    </tr>\n",
       "    <tr>\n",
       "      <th>944</th>\n",
       "      <td>James</td>\n",
       "      <td>M</td>\n",
       "      <td>5927</td>\n",
       "      <td>1880.0</td>\n",
       "    </tr>\n",
       "    <tr>\n",
       "      <th>945</th>\n",
       "      <td>Charles</td>\n",
       "      <td>M</td>\n",
       "      <td>5348</td>\n",
       "      <td>1880.0</td>\n",
       "    </tr>\n",
       "    <tr>\n",
       "      <th>946</th>\n",
       "      <td>George</td>\n",
       "      <td>M</td>\n",
       "      <td>5126</td>\n",
       "      <td>1880.0</td>\n",
       "    </tr>\n",
       "    <tr>\n",
       "      <th>...</th>\n",
       "      <td>...</td>\n",
       "      <td>...</td>\n",
       "      <td>...</td>\n",
       "      <td>...</td>\n",
       "    </tr>\n",
       "    <tr>\n",
       "      <th>2052776</th>\n",
       "      <td>Zyeire</td>\n",
       "      <td>M</td>\n",
       "      <td>5</td>\n",
       "      <td>2021.0</td>\n",
       "    </tr>\n",
       "    <tr>\n",
       "      <th>2052777</th>\n",
       "      <td>Zyel</td>\n",
       "      <td>M</td>\n",
       "      <td>5</td>\n",
       "      <td>2021.0</td>\n",
       "    </tr>\n",
       "    <tr>\n",
       "      <th>2052778</th>\n",
       "      <td>Zyian</td>\n",
       "      <td>M</td>\n",
       "      <td>5</td>\n",
       "      <td>2021.0</td>\n",
       "    </tr>\n",
       "    <tr>\n",
       "      <th>2052779</th>\n",
       "      <td>Zylar</td>\n",
       "      <td>M</td>\n",
       "      <td>5</td>\n",
       "      <td>2021.0</td>\n",
       "    </tr>\n",
       "    <tr>\n",
       "      <th>2052780</th>\n",
       "      <td>Zyn</td>\n",
       "      <td>M</td>\n",
       "      <td>5</td>\n",
       "      <td>2021.0</td>\n",
       "    </tr>\n",
       "  </tbody>\n",
       "</table>\n",
       "<p>842915 rows × 4 columns</p>\n",
       "</div>"
      ],
      "text/plain": [
       "            name gender  frequency    year\n",
       "942         John      M       9655  1880.0\n",
       "943      William      M       9532  1880.0\n",
       "944        James      M       5927  1880.0\n",
       "945      Charles      M       5348  1880.0\n",
       "946       George      M       5126  1880.0\n",
       "...          ...    ...        ...     ...\n",
       "2052776   Zyeire      M          5  2021.0\n",
       "2052777     Zyel      M          5  2021.0\n",
       "2052778    Zyian      M          5  2021.0\n",
       "2052779    Zylar      M          5  2021.0\n",
       "2052780      Zyn      M          5  2021.0\n",
       "\n",
       "[842915 rows x 4 columns]"
      ]
     },
     "execution_count": 7,
     "metadata": {},
     "output_type": "execute_result"
    }
   ],
   "source": [
    "babies[filtmasc]"
   ]
  },
  {
   "cell_type": "markdown",
   "id": "9cbe848e",
   "metadata": {},
   "source": [
    "### filtering babies named Michael"
   ]
  },
  {
   "cell_type": "code",
   "execution_count": 8,
   "id": "7dac6404",
   "metadata": {},
   "outputs": [],
   "source": [
    "filtmichael=(babies[\"name\"]=='Michael')"
   ]
  },
  {
   "cell_type": "markdown",
   "id": "27acbd3d",
   "metadata": {},
   "source": [
    "### filtering babies named Emily"
   ]
  },
  {
   "cell_type": "code",
   "execution_count": 9,
   "id": "7704abe6",
   "metadata": {},
   "outputs": [],
   "source": [
    "filtemily=(babies[\"name\"]=='Emily')"
   ]
  },
  {
   "cell_type": "markdown",
   "id": "f3e3019b",
   "metadata": {},
   "source": [
    "### filtering babies F and named Michael"
   ]
  },
  {
   "cell_type": "code",
   "execution_count": 10,
   "id": "643c0588",
   "metadata": {},
   "outputs": [],
   "source": [
    "babymichfem=babies[filtmichael & filtfem]"
   ]
  },
  {
   "cell_type": "markdown",
   "id": "58b18ec7",
   "metadata": {},
   "source": [
    "### filtering babies M named Michael"
   ]
  },
  {
   "cell_type": "code",
   "execution_count": 11,
   "id": "989700ed",
   "metadata": {},
   "outputs": [],
   "source": [
    "babymichmasc=babies[filtmichael & filtmasc]"
   ]
  },
  {
   "cell_type": "markdown",
   "id": "103a1ad1",
   "metadata": {},
   "source": [
    "### filtering babies F named Emily"
   ]
  },
  {
   "cell_type": "code",
   "execution_count": 12,
   "id": "74a5d938",
   "metadata": {},
   "outputs": [],
   "source": [
    "babyemfem=babies[filtemily & filtfem]"
   ]
  },
  {
   "cell_type": "markdown",
   "id": "c60fc232",
   "metadata": {},
   "source": [
    "### filtering babies M named Emily"
   ]
  },
  {
   "cell_type": "code",
   "execution_count": 13,
   "id": "2c1edce7",
   "metadata": {},
   "outputs": [],
   "source": [
    "babyemmasc=babies[filtemily & filtmasc]"
   ]
  },
  {
   "cell_type": "code",
   "execution_count": 21,
   "id": "4d4082b3",
   "metadata": {},
   "outputs": [
    {
     "data": {
      "text/html": [
       "<div>\n",
       "<style scoped>\n",
       "    .dataframe tbody tr th:only-of-type {\n",
       "        vertical-align: middle;\n",
       "    }\n",
       "\n",
       "    .dataframe tbody tr th {\n",
       "        vertical-align: top;\n",
       "    }\n",
       "\n",
       "    .dataframe thead th {\n",
       "        text-align: right;\n",
       "    }\n",
       "</style>\n",
       "<table border=\"1\" class=\"dataframe\">\n",
       "  <thead>\n",
       "    <tr style=\"text-align: right;\">\n",
       "      <th></th>\n",
       "      <th>name</th>\n",
       "      <th>gender</th>\n",
       "      <th>frequency</th>\n",
       "      <th>year</th>\n",
       "    </tr>\n",
       "  </thead>\n",
       "  <tbody>\n",
       "    <tr>\n",
       "      <th>42811</th>\n",
       "      <td>Emily</td>\n",
       "      <td>M</td>\n",
       "      <td>5</td>\n",
       "      <td>1896.0</td>\n",
       "    </tr>\n",
       "    <tr>\n",
       "      <th>1924120</th>\n",
       "      <td>Emily</td>\n",
       "      <td>M</td>\n",
       "      <td>5</td>\n",
       "      <td>2017.0</td>\n",
       "    </tr>\n",
       "    <tr>\n",
       "      <th>138339</th>\n",
       "      <td>Emily</td>\n",
       "      <td>M</td>\n",
       "      <td>5</td>\n",
       "      <td>1916.0</td>\n",
       "    </tr>\n",
       "    <tr>\n",
       "      <th>669629</th>\n",
       "      <td>Emily</td>\n",
       "      <td>M</td>\n",
       "      <td>5</td>\n",
       "      <td>1967.0</td>\n",
       "    </tr>\n",
       "    <tr>\n",
       "      <th>430720</th>\n",
       "      <td>Emily</td>\n",
       "      <td>M</td>\n",
       "      <td>5</td>\n",
       "      <td>1946.0</td>\n",
       "    </tr>\n",
       "    <tr>\n",
       "      <th>...</th>\n",
       "      <td>...</td>\n",
       "      <td>...</td>\n",
       "      <td>...</td>\n",
       "      <td>...</td>\n",
       "    </tr>\n",
       "    <tr>\n",
       "      <th>916504</th>\n",
       "      <td>Emily</td>\n",
       "      <td>M</td>\n",
       "      <td>55</td>\n",
       "      <td>1982.0</td>\n",
       "    </tr>\n",
       "    <tr>\n",
       "      <th>995747</th>\n",
       "      <td>Emily</td>\n",
       "      <td>M</td>\n",
       "      <td>57</td>\n",
       "      <td>1986.0</td>\n",
       "    </tr>\n",
       "    <tr>\n",
       "      <th>1038954</th>\n",
       "      <td>Emily</td>\n",
       "      <td>M</td>\n",
       "      <td>57</td>\n",
       "      <td>1988.0</td>\n",
       "    </tr>\n",
       "    <tr>\n",
       "      <th>1061792</th>\n",
       "      <td>Emily</td>\n",
       "      <td>M</td>\n",
       "      <td>82</td>\n",
       "      <td>1989.0</td>\n",
       "    </tr>\n",
       "    <tr>\n",
       "      <th>1474918</th>\n",
       "      <td>Emily</td>\n",
       "      <td>M</td>\n",
       "      <td>119</td>\n",
       "      <td>2004.0</td>\n",
       "    </tr>\n",
       "  </tbody>\n",
       "</table>\n",
       "<p>78 rows × 4 columns</p>\n",
       "</div>"
      ],
      "text/plain": [
       "          name gender  frequency    year\n",
       "42811    Emily      M          5  1896.0\n",
       "1924120  Emily      M          5  2017.0\n",
       "138339   Emily      M          5  1916.0\n",
       "669629   Emily      M          5  1967.0\n",
       "430720   Emily      M          5  1946.0\n",
       "...        ...    ...        ...     ...\n",
       "916504   Emily      M         55  1982.0\n",
       "995747   Emily      M         57  1986.0\n",
       "1038954  Emily      M         57  1988.0\n",
       "1061792  Emily      M         82  1989.0\n",
       "1474918  Emily      M        119  2004.0\n",
       "\n",
       "[78 rows x 4 columns]"
      ]
     },
     "execution_count": 21,
     "metadata": {},
     "output_type": "execute_result"
    }
   ],
   "source": [
    "babyemmasc.sort_values('frequency')"
   ]
  },
  {
   "cell_type": "code",
   "execution_count": 14,
   "id": "d121995f",
   "metadata": {},
   "outputs": [],
   "source": [
    "from matplotlib import pyplot as plt"
   ]
  },
  {
   "cell_type": "code",
   "execution_count": 15,
   "id": "6d4239df",
   "metadata": {},
   "outputs": [
    {
     "data": {
      "image/png": "[encoded data removed]",
      "text/plain": [
       "<Figure size 432x288 with 1 Axes>"
      ]
     },
     "metadata": {},
     "output_type": "display_data"
    },
    {
     "data": {
      "image/png": "[encoded data removed]",
      "text/plain": [
       "<Figure size 432x288 with 1 Axes>"
      ]
     },
     "metadata": {},
     "output_type": "display_data"
    },
    {
     "data": {
      "image/png": "[encoded data removed]",
      "text/plain": [
       "<Figure size 432x288 with 1 Axes>"
      ]
     },
     "metadata": {},
     "output_type": "display_data"
    },
    {
     "data": {
      "image/png": "[encoded data removed]",
      "text/plain": [
       "<Figure size 432x288 with 1 Axes>"
      ]
     },
     "metadata": {},
     "output_type": "display_data"
    }
   ],
   "source": [
    "plt.style.use('seaborn-dark')\n",
    "\n",
    "\n",
    "babymichfem.plot(x='year',y='frequency')\n",
    "babymichmasc.plot(x='year', y='frequency')\n",
    "babyemfem.plot(x='year', y='frequency')\n",
    "babyemmasc.plot(x='year', y='frequency');"
   ]
  },
  {
   "cell_type": "code",
   "execution_count": 148,
   "id": "e0851c28",
   "metadata": {},
   "outputs": [
    {
     "data": {
      "image/png": "[encoded data removed]",
      "text/plain": [
       "<Figure size 1152x648 with 1 Axes>"
      ]
     },
     "metadata": {},
     "output_type": "display_data"
    }
   ],
   "source": [
    "plt.style.use('seaborn-dark')\n",
    "\n",
    "plt.figure(figsize=(16,9))\n",
    "\n",
    "plt.yscale(\"log\")\n",
    "\n",
    "plt.xlabel(\"years\")\n",
    "plt.ylabel(\"frequency\")\n",
    "\n",
    "\n",
    "plt.plot(babymichfem['year'],babymichfem['frequency'], label='Michael girls')\n",
    "plt.plot(babymichmasc['year'],babymichmasc['frequency'],label='Michael boys')\n",
    "#plt.plot(babyemfem['year'],babyemfem['frequency'], label='Emily girls')\n",
    "#plt.plot(babyemmasc['year'],babyemmasc['frequency'],label='Emily boys')\n",
    "plt.title(\"Baby name:Michael\")\n",
    "\n",
    "plt.grid()\n",
    "\n",
    "plt.legend();"
   ]
  },
  {
   "cell_type": "code",
   "execution_count": 149,
   "id": "3ecc881a",
   "metadata": {},
   "outputs": [
    {
     "data": {
      "image/png": "[encoded data removed]",
      "text/plain": [
       "<Figure size 1152x648 with 1 Axes>"
      ]
     },
     "metadata": {},
     "output_type": "display_data"
    }
   ],
   "source": [
    "plt.style.use('seaborn-dark')\n",
    "\n",
    "plt.figure(figsize=(16,9))\n",
    "\n",
    "plt.yscale(\"log\")\n",
    "\n",
    "plt.xlabel(\"years\")\n",
    "plt.ylabel(\"frequency\")\n",
    "\n",
    "\n",
    "#plt.plot(babymichfem['year'],babymichfem['frequency'], label='Michael girls')\n",
    "#plt.plot(babymichmasc['year'],babymichmasc['frequency'],label='Michael boys')\n",
    "plt.plot(babyemfem['year'],babyemfem['frequency'], label='Emily girls')\n",
    "plt.plot(babyemmasc['year'],babyemmasc['frequency'],label='Emily boys')\n",
    "plt.title(\"Baby name:Emily\")\n",
    "plt.grid()\n",
    "plt.legend();"
   ]
  },
  {
   "cell_type": "markdown",
   "id": "8d2a5b74",
   "metadata": {},
   "source": [
    "### I used Emily and Michael, names with a high frequency, I expected that the difference in the frequency between both genders would be less with the time, that I did not observed in my analysis until now, because Michael and Emily are names that are very gender oriented, so I decided to analyse instead those names that have been at least 500 times in any year, used by both genders."
   ]
  },
  {
   "cell_type": "code",
   "execution_count": 22,
   "id": "ad38aa06",
   "metadata": {},
   "outputs": [
    {
     "data": {
      "text/html": [
       "<div>\n",
       "<style scoped>\n",
       "    .dataframe tbody tr th:only-of-type {\n",
       "        vertical-align: middle;\n",
       "    }\n",
       "\n",
       "    .dataframe tbody tr th {\n",
       "        vertical-align: top;\n",
       "    }\n",
       "\n",
       "    .dataframe thead th {\n",
       "        text-align: right;\n",
       "    }\n",
       "</style>\n",
       "<table border=\"1\" class=\"dataframe\">\n",
       "  <thead>\n",
       "    <tr style=\"text-align: right;\">\n",
       "      <th></th>\n",
       "      <th>name</th>\n",
       "      <th>gender</th>\n",
       "      <th>frequency</th>\n",
       "      <th>year</th>\n",
       "    </tr>\n",
       "  </thead>\n",
       "  <tbody>\n",
       "    <tr>\n",
       "      <th>42811</th>\n",
       "      <td>Emily</td>\n",
       "      <td>M</td>\n",
       "      <td>5</td>\n",
       "      <td>1896.0</td>\n",
       "    </tr>\n",
       "    <tr>\n",
       "      <th>1924120</th>\n",
       "      <td>Emily</td>\n",
       "      <td>M</td>\n",
       "      <td>5</td>\n",
       "      <td>2017.0</td>\n",
       "    </tr>\n",
       "    <tr>\n",
       "      <th>138339</th>\n",
       "      <td>Emily</td>\n",
       "      <td>M</td>\n",
       "      <td>5</td>\n",
       "      <td>1916.0</td>\n",
       "    </tr>\n",
       "    <tr>\n",
       "      <th>669629</th>\n",
       "      <td>Emily</td>\n",
       "      <td>M</td>\n",
       "      <td>5</td>\n",
       "      <td>1967.0</td>\n",
       "    </tr>\n",
       "    <tr>\n",
       "      <th>430720</th>\n",
       "      <td>Emily</td>\n",
       "      <td>M</td>\n",
       "      <td>5</td>\n",
       "      <td>1946.0</td>\n",
       "    </tr>\n",
       "    <tr>\n",
       "      <th>...</th>\n",
       "      <td>...</td>\n",
       "      <td>...</td>\n",
       "      <td>...</td>\n",
       "      <td>...</td>\n",
       "    </tr>\n",
       "    <tr>\n",
       "      <th>916504</th>\n",
       "      <td>Emily</td>\n",
       "      <td>M</td>\n",
       "      <td>55</td>\n",
       "      <td>1982.0</td>\n",
       "    </tr>\n",
       "    <tr>\n",
       "      <th>995747</th>\n",
       "      <td>Emily</td>\n",
       "      <td>M</td>\n",
       "      <td>57</td>\n",
       "      <td>1986.0</td>\n",
       "    </tr>\n",
       "    <tr>\n",
       "      <th>1038954</th>\n",
       "      <td>Emily</td>\n",
       "      <td>M</td>\n",
       "      <td>57</td>\n",
       "      <td>1988.0</td>\n",
       "    </tr>\n",
       "    <tr>\n",
       "      <th>1061792</th>\n",
       "      <td>Emily</td>\n",
       "      <td>M</td>\n",
       "      <td>82</td>\n",
       "      <td>1989.0</td>\n",
       "    </tr>\n",
       "    <tr>\n",
       "      <th>1474918</th>\n",
       "      <td>Emily</td>\n",
       "      <td>M</td>\n",
       "      <td>119</td>\n",
       "      <td>2004.0</td>\n",
       "    </tr>\n",
       "  </tbody>\n",
       "</table>\n",
       "<p>78 rows × 4 columns</p>\n",
       "</div>"
      ],
      "text/plain": [
       "          name gender  frequency    year\n",
       "42811    Emily      M          5  1896.0\n",
       "1924120  Emily      M          5  2017.0\n",
       "138339   Emily      M          5  1916.0\n",
       "669629   Emily      M          5  1967.0\n",
       "430720   Emily      M          5  1946.0\n",
       "...        ...    ...        ...     ...\n",
       "916504   Emily      M         55  1982.0\n",
       "995747   Emily      M         57  1986.0\n",
       "1038954  Emily      M         57  1988.0\n",
       "1061792  Emily      M         82  1989.0\n",
       "1474918  Emily      M        119  2004.0\n",
       "\n",
       "[78 rows x 4 columns]"
      ]
     },
     "execution_count": 22,
     "metadata": {},
     "output_type": "execute_result"
    }
   ],
   "source": [
    "babyemmasc.sort_values('frequency')"
   ]
  },
  {
   "cell_type": "code",
   "execution_count": 23,
   "id": "bf8ca3eb",
   "metadata": {},
   "outputs": [
    {
     "data": {
      "text/html": [
       "<div>\n",
       "<style scoped>\n",
       "    .dataframe tbody tr th:only-of-type {\n",
       "        vertical-align: middle;\n",
       "    }\n",
       "\n",
       "    .dataframe tbody tr th {\n",
       "        vertical-align: top;\n",
       "    }\n",
       "\n",
       "    .dataframe thead th {\n",
       "        text-align: right;\n",
       "    }\n",
       "</style>\n",
       "<table border=\"1\" class=\"dataframe\">\n",
       "  <thead>\n",
       "    <tr style=\"text-align: right;\">\n",
       "      <th></th>\n",
       "      <th>name</th>\n",
       "      <th>gender</th>\n",
       "      <th>frequency</th>\n",
       "      <th>year</th>\n",
       "    </tr>\n",
       "  </thead>\n",
       "  <tbody>\n",
       "    <tr>\n",
       "      <th>75247</th>\n",
       "      <td>Michael</td>\n",
       "      <td>F</td>\n",
       "      <td>5</td>\n",
       "      <td>1906.0</td>\n",
       "    </tr>\n",
       "    <tr>\n",
       "      <th>44275</th>\n",
       "      <td>Michael</td>\n",
       "      <td>F</td>\n",
       "      <td>7</td>\n",
       "      <td>1897.0</td>\n",
       "    </tr>\n",
       "    <tr>\n",
       "      <th>86611</th>\n",
       "      <td>Michael</td>\n",
       "      <td>F</td>\n",
       "      <td>7</td>\n",
       "      <td>1909.0</td>\n",
       "    </tr>\n",
       "    <tr>\n",
       "      <th>95683</th>\n",
       "      <td>Michael</td>\n",
       "      <td>F</td>\n",
       "      <td>7</td>\n",
       "      <td>1911.0</td>\n",
       "    </tr>\n",
       "    <tr>\n",
       "      <th>100724</th>\n",
       "      <td>Michael</td>\n",
       "      <td>F</td>\n",
       "      <td>8</td>\n",
       "      <td>1912.0</td>\n",
       "    </tr>\n",
       "    <tr>\n",
       "      <th>...</th>\n",
       "      <td>...</td>\n",
       "      <td>...</td>\n",
       "      <td>...</td>\n",
       "      <td>...</td>\n",
       "    </tr>\n",
       "    <tr>\n",
       "      <th>774537</th>\n",
       "      <td>Michael</td>\n",
       "      <td>F</td>\n",
       "      <td>557</td>\n",
       "      <td>1975.0</td>\n",
       "    </tr>\n",
       "    <tr>\n",
       "      <th>808891</th>\n",
       "      <td>Michael</td>\n",
       "      <td>F</td>\n",
       "      <td>560</td>\n",
       "      <td>1977.0</td>\n",
       "    </tr>\n",
       "    <tr>\n",
       "      <th>903316</th>\n",
       "      <td>Michael</td>\n",
       "      <td>F</td>\n",
       "      <td>576</td>\n",
       "      <td>1982.0</td>\n",
       "    </tr>\n",
       "    <tr>\n",
       "      <th>922998</th>\n",
       "      <td>Michael</td>\n",
       "      <td>F</td>\n",
       "      <td>577</td>\n",
       "      <td>1983.0</td>\n",
       "    </tr>\n",
       "    <tr>\n",
       "      <th>982018</th>\n",
       "      <td>Michael</td>\n",
       "      <td>F</td>\n",
       "      <td>590</td>\n",
       "      <td>1986.0</td>\n",
       "    </tr>\n",
       "  </tbody>\n",
       "</table>\n",
       "<p>115 rows × 4 columns</p>\n",
       "</div>"
      ],
      "text/plain": [
       "           name gender  frequency    year\n",
       "75247   Michael      F          5  1906.0\n",
       "44275   Michael      F          7  1897.0\n",
       "86611   Michael      F          7  1909.0\n",
       "95683   Michael      F          7  1911.0\n",
       "100724  Michael      F          8  1912.0\n",
       "...         ...    ...        ...     ...\n",
       "774537  Michael      F        557  1975.0\n",
       "808891  Michael      F        560  1977.0\n",
       "903316  Michael      F        576  1982.0\n",
       "922998  Michael      F        577  1983.0\n",
       "982018  Michael      F        590  1986.0\n",
       "\n",
       "[115 rows x 4 columns]"
      ]
     },
     "execution_count": 23,
     "metadata": {},
     "output_type": "execute_result"
    }
   ],
   "source": [
    "babymichfem.sort_values('frequency')"
   ]
  },
  {
   "cell_type": "markdown",
   "id": "3703804d",
   "metadata": {},
   "source": [
    "### filtering names for gender F that have been used at least 500 times"
   ]
  },
  {
   "cell_type": "code",
   "execution_count": 53,
   "id": "16c74a60",
   "metadata": {},
   "outputs": [],
   "source": [
    "filtfreqf=((babies['gender']=='F')&(babies['frequency']> 500))"
   ]
  },
  {
   "cell_type": "code",
   "execution_count": 59,
   "id": "2680e77f",
   "metadata": {},
   "outputs": [
    {
     "data": {
      "text/plain": [
       "0           True\n",
       "1           True\n",
       "2           True\n",
       "3           True\n",
       "4           True\n",
       "           ...  \n",
       "2052776    False\n",
       "2052777    False\n",
       "2052778    False\n",
       "2052779    False\n",
       "2052780    False\n",
       "Length: 2052781, dtype: bool"
      ]
     },
     "execution_count": 59,
     "metadata": {},
     "output_type": "execute_result"
    }
   ],
   "source": [
    "filtfreqf"
   ]
  },
  {
   "cell_type": "markdown",
   "id": "3e5bf973",
   "metadata": {},
   "source": [
    "### filtering names for gender M that have been used at least 500 times"
   ]
  },
  {
   "cell_type": "code",
   "execution_count": 55,
   "id": "ef8c35ee",
   "metadata": {},
   "outputs": [],
   "source": [
    "filtfreqm=((babies['gender']=='M')&(babies['frequency']> 500))"
   ]
  },
  {
   "cell_type": "code",
   "execution_count": 56,
   "id": "469e80ce",
   "metadata": {},
   "outputs": [
    {
     "data": {
      "text/plain": [
       "0          False\n",
       "1          False\n",
       "2          False\n",
       "3          False\n",
       "4          False\n",
       "           ...  \n",
       "2052776    False\n",
       "2052777    False\n",
       "2052778    False\n",
       "2052779    False\n",
       "2052780    False\n",
       "Length: 2052781, dtype: bool"
      ]
     },
     "execution_count": 56,
     "metadata": {},
     "output_type": "execute_result"
    }
   ],
   "source": [
    "filtfreqm"
   ]
  },
  {
   "cell_type": "code",
   "execution_count": 62,
   "id": "66b2ca01",
   "metadata": {},
   "outputs": [],
   "source": [
    "df_500_m=babies[filtfreqm]"
   ]
  },
  {
   "cell_type": "code",
   "execution_count": 64,
   "id": "733a30b1",
   "metadata": {},
   "outputs": [
    {
     "data": {
      "text/html": [
       "<div>\n",
       "<style scoped>\n",
       "    .dataframe tbody tr th:only-of-type {\n",
       "        vertical-align: middle;\n",
       "    }\n",
       "\n",
       "    .dataframe tbody tr th {\n",
       "        vertical-align: top;\n",
       "    }\n",
       "\n",
       "    .dataframe thead th {\n",
       "        text-align: right;\n",
       "    }\n",
       "</style>\n",
       "<table border=\"1\" class=\"dataframe\">\n",
       "  <thead>\n",
       "    <tr style=\"text-align: right;\">\n",
       "      <th></th>\n",
       "      <th>name</th>\n",
       "      <th>gender</th>\n",
       "      <th>frequency</th>\n",
       "      <th>year</th>\n",
       "    </tr>\n",
       "  </thead>\n",
       "  <tbody>\n",
       "    <tr>\n",
       "      <th>942</th>\n",
       "      <td>John</td>\n",
       "      <td>M</td>\n",
       "      <td>9655</td>\n",
       "      <td>1880.0</td>\n",
       "    </tr>\n",
       "    <tr>\n",
       "      <th>943</th>\n",
       "      <td>William</td>\n",
       "      <td>M</td>\n",
       "      <td>9532</td>\n",
       "      <td>1880.0</td>\n",
       "    </tr>\n",
       "    <tr>\n",
       "      <th>944</th>\n",
       "      <td>James</td>\n",
       "      <td>M</td>\n",
       "      <td>5927</td>\n",
       "      <td>1880.0</td>\n",
       "    </tr>\n",
       "    <tr>\n",
       "      <th>945</th>\n",
       "      <td>Charles</td>\n",
       "      <td>M</td>\n",
       "      <td>5348</td>\n",
       "      <td>1880.0</td>\n",
       "    </tr>\n",
       "    <tr>\n",
       "      <th>946</th>\n",
       "      <td>George</td>\n",
       "      <td>M</td>\n",
       "      <td>5126</td>\n",
       "      <td>1880.0</td>\n",
       "    </tr>\n",
       "    <tr>\n",
       "      <th>...</th>\n",
       "      <td>...</td>\n",
       "      <td>...</td>\n",
       "      <td>...</td>\n",
       "      <td>...</td>\n",
       "    </tr>\n",
       "    <tr>\n",
       "      <th>2039345</th>\n",
       "      <td>Ridge</td>\n",
       "      <td>M</td>\n",
       "      <td>505</td>\n",
       "      <td>2021.0</td>\n",
       "    </tr>\n",
       "    <tr>\n",
       "      <th>2039346</th>\n",
       "      <td>Yusuf</td>\n",
       "      <td>M</td>\n",
       "      <td>505</td>\n",
       "      <td>2021.0</td>\n",
       "    </tr>\n",
       "    <tr>\n",
       "      <th>2039347</th>\n",
       "      <td>Ariel</td>\n",
       "      <td>M</td>\n",
       "      <td>504</td>\n",
       "      <td>2021.0</td>\n",
       "    </tr>\n",
       "    <tr>\n",
       "      <th>2039348</th>\n",
       "      <td>Valentino</td>\n",
       "      <td>M</td>\n",
       "      <td>504</td>\n",
       "      <td>2021.0</td>\n",
       "    </tr>\n",
       "    <tr>\n",
       "      <th>2039349</th>\n",
       "      <td>Jayson</td>\n",
       "      <td>M</td>\n",
       "      <td>501</td>\n",
       "      <td>2021.0</td>\n",
       "    </tr>\n",
       "  </tbody>\n",
       "</table>\n",
       "<p>40502 rows × 4 columns</p>\n",
       "</div>"
      ],
      "text/plain": [
       "              name gender  frequency    year\n",
       "942           John      M       9655  1880.0\n",
       "943        William      M       9532  1880.0\n",
       "944          James      M       5927  1880.0\n",
       "945        Charles      M       5348  1880.0\n",
       "946         George      M       5126  1880.0\n",
       "...            ...    ...        ...     ...\n",
       "2039345      Ridge      M        505  2021.0\n",
       "2039346      Yusuf      M        505  2021.0\n",
       "2039347      Ariel      M        504  2021.0\n",
       "2039348  Valentino      M        504  2021.0\n",
       "2039349     Jayson      M        501  2021.0\n",
       "\n",
       "[40502 rows x 4 columns]"
      ]
     },
     "execution_count": 64,
     "metadata": {},
     "output_type": "execute_result"
    }
   ],
   "source": [
    "df_500_m"
   ]
  },
  {
   "cell_type": "code",
   "execution_count": 63,
   "id": "5815e899",
   "metadata": {},
   "outputs": [],
   "source": [
    "df_500_f=babies[filtfreqf]"
   ]
  },
  {
   "cell_type": "markdown",
   "id": "4dd944ae",
   "metadata": {},
   "source": [
    "### combining both filters; "
   ]
  },
  {
   "cell_type": "code",
   "execution_count": 78,
   "id": "2bc1e14d",
   "metadata": {},
   "outputs": [],
   "source": [
    "df_concatenated=pd.concat([df_500_m, df_500_f])\n"
   ]
  },
  {
   "cell_type": "code",
   "execution_count": 79,
   "id": "ce301610",
   "metadata": {},
   "outputs": [
    {
     "data": {
      "text/html": [
       "<div>\n",
       "<style scoped>\n",
       "    .dataframe tbody tr th:only-of-type {\n",
       "        vertical-align: middle;\n",
       "    }\n",
       "\n",
       "    .dataframe tbody tr th {\n",
       "        vertical-align: top;\n",
       "    }\n",
       "\n",
       "    .dataframe thead th {\n",
       "        text-align: right;\n",
       "    }\n",
       "</style>\n",
       "<table border=\"1\" class=\"dataframe\">\n",
       "  <thead>\n",
       "    <tr style=\"text-align: right;\">\n",
       "      <th></th>\n",
       "      <th>name</th>\n",
       "      <th>gender</th>\n",
       "      <th>frequency</th>\n",
       "      <th>year</th>\n",
       "    </tr>\n",
       "  </thead>\n",
       "  <tbody>\n",
       "    <tr>\n",
       "      <th>32</th>\n",
       "      <td>Ada</td>\n",
       "      <td>F</td>\n",
       "      <td>652</td>\n",
       "      <td>1880.0</td>\n",
       "    </tr>\n",
       "    <tr>\n",
       "      <th>957</th>\n",
       "      <td>Albert</td>\n",
       "      <td>M</td>\n",
       "      <td>1493</td>\n",
       "      <td>1880.0</td>\n",
       "    </tr>\n",
       "    <tr>\n",
       "      <th>7</th>\n",
       "      <td>Alice</td>\n",
       "      <td>F</td>\n",
       "      <td>1414</td>\n",
       "      <td>1880.0</td>\n",
       "    </tr>\n",
       "    <tr>\n",
       "      <th>965</th>\n",
       "      <td>Andrew</td>\n",
       "      <td>M</td>\n",
       "      <td>644</td>\n",
       "      <td>1880.0</td>\n",
       "    </tr>\n",
       "    <tr>\n",
       "      <th>1</th>\n",
       "      <td>Anna</td>\n",
       "      <td>F</td>\n",
       "      <td>2604</td>\n",
       "      <td>1880.0</td>\n",
       "    </tr>\n",
       "    <tr>\n",
       "      <th>...</th>\n",
       "      <td>...</td>\n",
       "      <td>...</td>\n",
       "      <td>...</td>\n",
       "      <td>...</td>\n",
       "    </tr>\n",
       "    <tr>\n",
       "      <th>2038923</th>\n",
       "      <td>Zion</td>\n",
       "      <td>M</td>\n",
       "      <td>2725</td>\n",
       "      <td>2021.0</td>\n",
       "    </tr>\n",
       "    <tr>\n",
       "      <th>2021285</th>\n",
       "      <td>Zoe</td>\n",
       "      <td>F</td>\n",
       "      <td>4687</td>\n",
       "      <td>2021.0</td>\n",
       "    </tr>\n",
       "    <tr>\n",
       "      <th>2021281</th>\n",
       "      <td>Zoey</td>\n",
       "      <td>F</td>\n",
       "      <td>5179</td>\n",
       "      <td>2021.0</td>\n",
       "    </tr>\n",
       "    <tr>\n",
       "      <th>2021450</th>\n",
       "      <td>Zuri</td>\n",
       "      <td>F</td>\n",
       "      <td>1426</td>\n",
       "      <td>2021.0</td>\n",
       "    </tr>\n",
       "    <tr>\n",
       "      <th>2039174</th>\n",
       "      <td>Zyaire</td>\n",
       "      <td>M</td>\n",
       "      <td>828</td>\n",
       "      <td>2021.0</td>\n",
       "    </tr>\n",
       "  </tbody>\n",
       "</table>\n",
       "<p>89013 rows × 4 columns</p>\n",
       "</div>"
      ],
      "text/plain": [
       "           name gender  frequency    year\n",
       "32          Ada      F        652  1880.0\n",
       "957      Albert      M       1493  1880.0\n",
       "7         Alice      F       1414  1880.0\n",
       "965      Andrew      M        644  1880.0\n",
       "1          Anna      F       2604  1880.0\n",
       "...         ...    ...        ...     ...\n",
       "2038923    Zion      M       2725  2021.0\n",
       "2021285     Zoe      F       4687  2021.0\n",
       "2021281    Zoey      F       5179  2021.0\n",
       "2021450    Zuri      F       1426  2021.0\n",
       "2039174  Zyaire      M        828  2021.0\n",
       "\n",
       "[89013 rows x 4 columns]"
      ]
     },
     "execution_count": 79,
     "metadata": {},
     "output_type": "execute_result"
    }
   ],
   "source": [
    "df_concatenated.sort_values(['year','name'])"
   ]
  },
  {
   "cell_type": "code",
   "execution_count": 80,
   "id": "417b009b",
   "metadata": {},
   "outputs": [
    {
     "data": {
      "text/html": [
       "<div>\n",
       "<style scoped>\n",
       "    .dataframe tbody tr th:only-of-type {\n",
       "        vertical-align: middle;\n",
       "    }\n",
       "\n",
       "    .dataframe tbody tr th {\n",
       "        vertical-align: top;\n",
       "    }\n",
       "\n",
       "    .dataframe thead th {\n",
       "        text-align: right;\n",
       "    }\n",
       "</style>\n",
       "<table border=\"1\" class=\"dataframe\">\n",
       "  <thead>\n",
       "    <tr style=\"text-align: right;\">\n",
       "      <th></th>\n",
       "      <th>name</th>\n",
       "      <th>gender</th>\n",
       "      <th>frequency</th>\n",
       "      <th>year</th>\n",
       "    </tr>\n",
       "  </thead>\n",
       "  <tbody>\n",
       "    <tr>\n",
       "      <th>1760606</th>\n",
       "      <td>Zuri</td>\n",
       "      <td>F</td>\n",
       "      <td>569</td>\n",
       "      <td>2013.0</td>\n",
       "    </tr>\n",
       "    <tr>\n",
       "      <th>1793869</th>\n",
       "      <td>Zuri</td>\n",
       "      <td>F</td>\n",
       "      <td>666</td>\n",
       "      <td>2014.0</td>\n",
       "    </tr>\n",
       "    <tr>\n",
       "      <th>1827117</th>\n",
       "      <td>Zuri</td>\n",
       "      <td>F</td>\n",
       "      <td>714</td>\n",
       "      <td>2015.0</td>\n",
       "    </tr>\n",
       "    <tr>\n",
       "      <th>1860194</th>\n",
       "      <td>Zuri</td>\n",
       "      <td>F</td>\n",
       "      <td>891</td>\n",
       "      <td>2016.0</td>\n",
       "    </tr>\n",
       "    <tr>\n",
       "      <th>1893238</th>\n",
       "      <td>Zuri</td>\n",
       "      <td>F</td>\n",
       "      <td>850</td>\n",
       "      <td>2017.0</td>\n",
       "    </tr>\n",
       "    <tr>\n",
       "      <th>1925812</th>\n",
       "      <td>Zuri</td>\n",
       "      <td>F</td>\n",
       "      <td>1131</td>\n",
       "      <td>2018.0</td>\n",
       "    </tr>\n",
       "    <tr>\n",
       "      <th>1957995</th>\n",
       "      <td>Zuri</td>\n",
       "      <td>F</td>\n",
       "      <td>1181</td>\n",
       "      <td>2019.0</td>\n",
       "    </tr>\n",
       "    <tr>\n",
       "      <th>1990025</th>\n",
       "      <td>Zuri</td>\n",
       "      <td>F</td>\n",
       "      <td>1262</td>\n",
       "      <td>2020.0</td>\n",
       "    </tr>\n",
       "    <tr>\n",
       "      <th>2021450</th>\n",
       "      <td>Zuri</td>\n",
       "      <td>F</td>\n",
       "      <td>1426</td>\n",
       "      <td>2021.0</td>\n",
       "    </tr>\n",
       "  </tbody>\n",
       "</table>\n",
       "</div>"
      ],
      "text/plain": [
       "         name gender  frequency    year\n",
       "1760606  Zuri      F        569  2013.0\n",
       "1793869  Zuri      F        666  2014.0\n",
       "1827117  Zuri      F        714  2015.0\n",
       "1860194  Zuri      F        891  2016.0\n",
       "1893238  Zuri      F        850  2017.0\n",
       "1925812  Zuri      F       1131  2018.0\n",
       "1957995  Zuri      F       1181  2019.0\n",
       "1990025  Zuri      F       1262  2020.0\n",
       "2021450  Zuri      F       1426  2021.0"
      ]
     },
     "execution_count": 80,
     "metadata": {},
     "output_type": "execute_result"
    }
   ],
   "source": [
    "df_concatenated[df_concatenated['name']=='Zuri']"
   ]
  },
  {
   "cell_type": "code",
   "execution_count": 86,
   "id": "1598fa5c",
   "metadata": {},
   "outputs": [],
   "source": [
    "df_500_f_array=df_500_f['name'].unique()"
   ]
  },
  {
   "cell_type": "code",
   "execution_count": 85,
   "id": "b0b9e3d1",
   "metadata": {},
   "outputs": [
    {
     "data": {
      "text/plain": [
       "1569"
      ]
     },
     "execution_count": 85,
     "metadata": {},
     "output_type": "execute_result"
    }
   ],
   "source": [
    "len(df_500_f['name'].unique())"
   ]
  },
  {
   "cell_type": "code",
   "execution_count": 87,
   "id": "ffb5e0fa",
   "metadata": {},
   "outputs": [],
   "source": [
    "df_500_m_array=df_500_m['name'].unique()"
   ]
  },
  {
   "cell_type": "code",
   "execution_count": 88,
   "id": "a733774b",
   "metadata": {},
   "outputs": [
    {
     "data": {
      "text/plain": [
       "1101"
      ]
     },
     "execution_count": 88,
     "metadata": {},
     "output_type": "execute_result"
    }
   ],
   "source": [
    "len(df_500_m['name'].unique())"
   ]
  },
  {
   "cell_type": "markdown",
   "id": "328cc8b9",
   "metadata": {},
   "source": [
    "### using isin in order to see which names were used for both genders more than 500 times in any year"
   ]
  },
  {
   "cell_type": "code",
   "execution_count": 89,
   "id": "60ecffc2",
   "metadata": {},
   "outputs": [],
   "source": [
    "common_names = babies['name'].isin(df_500_f_array) & babies['name'].isin(df_500_m_array)"
   ]
  },
  {
   "cell_type": "code",
   "execution_count": 90,
   "id": "e07e29b0",
   "metadata": {},
   "outputs": [
    {
     "data": {
      "text/html": [
       "<div>\n",
       "<style scoped>\n",
       "    .dataframe tbody tr th:only-of-type {\n",
       "        vertical-align: middle;\n",
       "    }\n",
       "\n",
       "    .dataframe tbody tr th {\n",
       "        vertical-align: top;\n",
       "    }\n",
       "\n",
       "    .dataframe thead th {\n",
       "        text-align: right;\n",
       "    }\n",
       "</style>\n",
       "<table border=\"1\" class=\"dataframe\">\n",
       "  <thead>\n",
       "    <tr style=\"text-align: right;\">\n",
       "      <th></th>\n",
       "      <th>name</th>\n",
       "      <th>gender</th>\n",
       "      <th>frequency</th>\n",
       "      <th>year</th>\n",
       "    </tr>\n",
       "  </thead>\n",
       "  <tbody>\n",
       "    <tr>\n",
       "      <th>35</th>\n",
       "      <td>Jessie</td>\n",
       "      <td>F</td>\n",
       "      <td>635</td>\n",
       "      <td>1880.0</td>\n",
       "    </tr>\n",
       "    <tr>\n",
       "      <th>104</th>\n",
       "      <td>Willie</td>\n",
       "      <td>F</td>\n",
       "      <td>192</td>\n",
       "      <td>1880.0</td>\n",
       "    </tr>\n",
       "    <tr>\n",
       "      <th>136</th>\n",
       "      <td>Marion</td>\n",
       "      <td>F</td>\n",
       "      <td>115</td>\n",
       "      <td>1880.0</td>\n",
       "    </tr>\n",
       "    <tr>\n",
       "      <th>205</th>\n",
       "      <td>Francis</td>\n",
       "      <td>F</td>\n",
       "      <td>55</td>\n",
       "      <td>1880.0</td>\n",
       "    </tr>\n",
       "    <tr>\n",
       "      <th>299</th>\n",
       "      <td>Lee</td>\n",
       "      <td>F</td>\n",
       "      <td>28</td>\n",
       "      <td>1880.0</td>\n",
       "    </tr>\n",
       "    <tr>\n",
       "      <th>...</th>\n",
       "      <td>...</td>\n",
       "      <td>...</td>\n",
       "      <td>...</td>\n",
       "      <td>...</td>\n",
       "    </tr>\n",
       "    <tr>\n",
       "      <th>2048030</th>\n",
       "      <td>Kim</td>\n",
       "      <td>M</td>\n",
       "      <td>8</td>\n",
       "      <td>2021.0</td>\n",
       "    </tr>\n",
       "    <tr>\n",
       "      <th>2048295</th>\n",
       "      <td>Stacey</td>\n",
       "      <td>M</td>\n",
       "      <td>8</td>\n",
       "      <td>2021.0</td>\n",
       "    </tr>\n",
       "    <tr>\n",
       "      <th>2048331</th>\n",
       "      <td>Tracey</td>\n",
       "      <td>M</td>\n",
       "      <td>8</td>\n",
       "      <td>2021.0</td>\n",
       "    </tr>\n",
       "    <tr>\n",
       "      <th>2049694</th>\n",
       "      <td>Billie</td>\n",
       "      <td>M</td>\n",
       "      <td>6</td>\n",
       "      <td>2021.0</td>\n",
       "    </tr>\n",
       "    <tr>\n",
       "      <th>2050425</th>\n",
       "      <td>Nakia</td>\n",
       "      <td>M</td>\n",
       "      <td>6</td>\n",
       "      <td>2021.0</td>\n",
       "    </tr>\n",
       "  </tbody>\n",
       "</table>\n",
       "<p>20617 rows × 4 columns</p>\n",
       "</div>"
      ],
      "text/plain": [
       "            name gender  frequency    year\n",
       "35        Jessie      F        635  1880.0\n",
       "104       Willie      F        192  1880.0\n",
       "136       Marion      F        115  1880.0\n",
       "205      Francis      F         55  1880.0\n",
       "299          Lee      F         28  1880.0\n",
       "...          ...    ...        ...     ...\n",
       "2048030      Kim      M          8  2021.0\n",
       "2048295   Stacey      M          8  2021.0\n",
       "2048331   Tracey      M          8  2021.0\n",
       "2049694   Billie      M          6  2021.0\n",
       "2050425    Nakia      M          6  2021.0\n",
       "\n",
       "[20617 rows x 4 columns]"
      ]
     },
     "execution_count": 90,
     "metadata": {},
     "output_type": "execute_result"
    }
   ],
   "source": [
    "babies[common_names]"
   ]
  },
  {
   "cell_type": "code",
   "execution_count": 92,
   "id": "6cd5201c",
   "metadata": {},
   "outputs": [
    {
     "data": {
      "text/plain": [
       "35          Jessie\n",
       "104         Willie\n",
       "136         Marion\n",
       "205        Francis\n",
       "299            Lee\n",
       "            ...   \n",
       "2048030        Kim\n",
       "2048295     Stacey\n",
       "2048331     Tracey\n",
       "2049694     Billie\n",
       "2050425      Nakia\n",
       "Name: name, Length: 20617, dtype: object"
      ]
     },
     "execution_count": 92,
     "metadata": {},
     "output_type": "execute_result"
    }
   ],
   "source": [
    "babies[common_names]['name']"
   ]
  },
  {
   "cell_type": "markdown",
   "id": "e1df0802",
   "metadata": {},
   "source": [
    "### less genderized names:"
   ]
  },
  {
   "cell_type": "code",
   "execution_count": 95,
   "id": "7cd9e1a0",
   "metadata": {},
   "outputs": [
    {
     "data": {
      "text/plain": [
       "array(['Jessie', 'Willie', 'Marion', 'Francis', 'Lee', 'Frankie',\n",
       "       'Sidney', 'Jimmie', 'Johnnie', 'Leslie', 'Lynn', 'Charlie',\n",
       "       'Michael', 'Jerry', 'Harley', 'Chris', 'Christian', 'Riley',\n",
       "       'Taylor', 'Morgan', 'Emerson', 'Jordan', 'Elliott', 'Dallas',\n",
       "       'Parker', 'Logan', 'Bailey', 'Dana', 'Hunter', 'Pat', 'Finley',\n",
       "       'Billie', 'Terry', 'Avery', 'Ashley', 'Shelby', 'Elliot', 'Tyler',\n",
       "       'Reese', 'Stacy', 'Tracy', 'Hayden', 'Justice', 'Kelly', 'Payton',\n",
       "       'Rene', 'Unknown', 'Courtney', 'Carter', 'Ashton', 'Dale', 'Robin',\n",
       "       'Shannon', 'Alexis', 'Cameron', 'Bobbie', 'Blake', 'Jamie',\n",
       "       'Oakley', 'Peyton', 'London', 'Angel', 'Casey', 'Ariel', 'Jackie',\n",
       "       'Chandler', 'Jan', 'Ryan', 'Kendall', 'Jody', 'Sutton',\n",
       "       'Dominique', 'Kim', 'Stacey', 'Sawyer', 'Devon', 'Remy', 'Dakota',\n",
       "       'Quinn', 'Tracey', 'Jaime', 'Rowan', 'Eden', 'Zion', 'Kerry',\n",
       "       'Sage', 'Shawn', 'Rory', 'Kris', 'Darian', 'Devin', 'Dylan',\n",
       "       'Skyler', 'Remington', 'Ari', 'Skylar', 'Tatum', 'Phoenix',\n",
       "       'River', 'Mackenzie', 'Nakia', 'Jaden', 'Amari', 'Jayden',\n",
       "       'Jaylin', 'Infant', 'Armani', 'Kayden', 'Jaiden'], dtype=object)"
      ]
     },
     "execution_count": 95,
     "metadata": {},
     "output_type": "execute_result"
    }
   ],
   "source": [
    "babies[common_names]['name'].unique()"
   ]
  },
  {
   "cell_type": "code",
   "execution_count": 96,
   "id": "e5fd85f9",
   "metadata": {},
   "outputs": [
    {
     "data": {
      "text/plain": [
       "109"
      ]
     },
     "execution_count": 96,
     "metadata": {},
     "output_type": "execute_result"
    }
   ],
   "source": [
    "len(babies[common_names]['name'].unique())"
   ]
  },
  {
   "cell_type": "code",
   "execution_count": 98,
   "id": "fd91d9cd",
   "metadata": {},
   "outputs": [],
   "source": [
    "filteredbabies=babies[common_names]"
   ]
  },
  {
   "cell_type": "markdown",
   "id": "975c5f7d",
   "metadata": {},
   "source": [
    "### taking a sample from the less \"genderized\" names"
   ]
  },
  {
   "cell_type": "code",
   "execution_count": 101,
   "id": "86cf0258",
   "metadata": {},
   "outputs": [],
   "source": [
    "bothcarter=filteredbabies['name']=='Carter'"
   ]
  },
  {
   "cell_type": "code",
   "execution_count": null,
   "id": "ed3433be",
   "metadata": {},
   "outputs": [],
   "source": []
  },
  {
   "cell_type": "code",
   "execution_count": 104,
   "id": "cd26fd3c",
   "metadata": {},
   "outputs": [],
   "source": [
    "finalcarter=filteredbabies[bothcarter]"
   ]
  },
  {
   "cell_type": "code",
   "execution_count": 105,
   "id": "bf97d88b",
   "metadata": {},
   "outputs": [
    {
     "data": {
      "text/html": [
       "<div>\n",
       "<style scoped>\n",
       "    .dataframe tbody tr th:only-of-type {\n",
       "        vertical-align: middle;\n",
       "    }\n",
       "\n",
       "    .dataframe tbody tr th {\n",
       "        vertical-align: top;\n",
       "    }\n",
       "\n",
       "    .dataframe thead th {\n",
       "        text-align: right;\n",
       "    }\n",
       "</style>\n",
       "<table border=\"1\" class=\"dataframe\">\n",
       "  <thead>\n",
       "    <tr style=\"text-align: right;\">\n",
       "      <th></th>\n",
       "      <th>name</th>\n",
       "      <th>gender</th>\n",
       "      <th>frequency</th>\n",
       "      <th>year</th>\n",
       "    </tr>\n",
       "  </thead>\n",
       "  <tbody>\n",
       "    <tr>\n",
       "      <th>3443</th>\n",
       "      <td>Carter</td>\n",
       "      <td>M</td>\n",
       "      <td>12</td>\n",
       "      <td>1881.0</td>\n",
       "    </tr>\n",
       "    <tr>\n",
       "      <th>7675</th>\n",
       "      <td>Carter</td>\n",
       "      <td>M</td>\n",
       "      <td>11</td>\n",
       "      <td>1883.0</td>\n",
       "    </tr>\n",
       "    <tr>\n",
       "      <th>9842</th>\n",
       "      <td>Carter</td>\n",
       "      <td>M</td>\n",
       "      <td>13</td>\n",
       "      <td>1884.0</td>\n",
       "    </tr>\n",
       "    <tr>\n",
       "      <th>12251</th>\n",
       "      <td>Carter</td>\n",
       "      <td>M</td>\n",
       "      <td>10</td>\n",
       "      <td>1885.0</td>\n",
       "    </tr>\n",
       "    <tr>\n",
       "      <th>14491</th>\n",
       "      <td>Carter</td>\n",
       "      <td>M</td>\n",
       "      <td>15</td>\n",
       "      <td>1886.0</td>\n",
       "    </tr>\n",
       "    <tr>\n",
       "      <th>...</th>\n",
       "      <td>...</td>\n",
       "      <td>...</td>\n",
       "      <td>...</td>\n",
       "      <td>...</td>\n",
       "    </tr>\n",
       "    <tr>\n",
       "      <th>1975719</th>\n",
       "      <td>Carter</td>\n",
       "      <td>M</td>\n",
       "      <td>8664</td>\n",
       "      <td>2019.0</td>\n",
       "    </tr>\n",
       "    <tr>\n",
       "      <th>1990303</th>\n",
       "      <td>Carter</td>\n",
       "      <td>F</td>\n",
       "      <td>587</td>\n",
       "      <td>2020.0</td>\n",
       "    </tr>\n",
       "    <tr>\n",
       "      <th>2007270</th>\n",
       "      <td>Carter</td>\n",
       "      <td>M</td>\n",
       "      <td>7552</td>\n",
       "      <td>2020.0</td>\n",
       "    </tr>\n",
       "    <tr>\n",
       "      <th>2021743</th>\n",
       "      <td>Carter</td>\n",
       "      <td>F</td>\n",
       "      <td>620</td>\n",
       "      <td>2021.0</td>\n",
       "    </tr>\n",
       "    <tr>\n",
       "      <th>2038826</th>\n",
       "      <td>Carter</td>\n",
       "      <td>M</td>\n",
       "      <td>7163</td>\n",
       "      <td>2021.0</td>\n",
       "    </tr>\n",
       "  </tbody>\n",
       "</table>\n",
       "<p>218 rows × 4 columns</p>\n",
       "</div>"
      ],
      "text/plain": [
       "           name gender  frequency    year\n",
       "3443     Carter      M         12  1881.0\n",
       "7675     Carter      M         11  1883.0\n",
       "9842     Carter      M         13  1884.0\n",
       "12251    Carter      M         10  1885.0\n",
       "14491    Carter      M         15  1886.0\n",
       "...         ...    ...        ...     ...\n",
       "1975719  Carter      M       8664  2019.0\n",
       "1990303  Carter      F        587  2020.0\n",
       "2007270  Carter      M       7552  2020.0\n",
       "2021743  Carter      F        620  2021.0\n",
       "2038826  Carter      M       7163  2021.0\n",
       "\n",
       "[218 rows x 4 columns]"
      ]
     },
     "execution_count": 105,
     "metadata": {},
     "output_type": "execute_result"
    }
   ],
   "source": [
    "finalcarter"
   ]
  },
  {
   "cell_type": "markdown",
   "id": "857e03ae",
   "metadata": {},
   "source": [
    "### ploting different samples from the less \"genderized\" names"
   ]
  },
  {
   "cell_type": "code",
   "execution_count": 150,
   "id": "fcdc4c9e",
   "metadata": {},
   "outputs": [
    {
     "data": {
      "image/png": "[encoded data removed]",
      "text/plain": [
       "<Figure size 1152x648 with 1 Axes>"
      ]
     },
     "metadata": {},
     "output_type": "display_data"
    }
   ],
   "source": [
    "plt.style.use('seaborn-dark')\n",
    "\n",
    "plt.figure(figsize=(16,9))\n",
    "\n",
    "#plt.yscale(\"log\")\n",
    "\n",
    "plt.xlabel(\"years\")\n",
    "plt.ylabel(\"frequency\")\n",
    "\n",
    "x=finalcarter['year'][finalcarter['gender']=='M']\n",
    "y=finalcarter['frequency'][finalcarter['gender']=='M']\n",
    "\n",
    "a=finalcarter['year'][finalcarter['gender']=='F']\n",
    "z=finalcarter['frequency'][finalcarter['gender']=='F']\n",
    "\n",
    "#plt.plot(finalcarter['gender']=='M')\n",
    "#plt.plot(finalcarter['gender'])\n",
    "plt.plot(x,y,label='male carters')\n",
    "plt.plot(a,z,label='female carters')\n",
    "\n",
    "#plt.plot(finalcarter['year'],finalcarter['frequency'],finalcarter['gender']=='M'])\n",
    "#plt.plot(finalcarter['year'],finalcarter['frequency'], finalcarter['gender']=='F'])\n",
    "\n",
    "plt.grid()\n",
    "\n",
    "plt.title(\"Carter\")\n",
    "plt.savefig('Carter.png')\n",
    "plt.legend();"
   ]
  },
  {
   "cell_type": "code",
   "execution_count": 114,
   "id": "00f27241",
   "metadata": {},
   "outputs": [],
   "source": [
    "bothshannon=filteredbabies['name']=='Shannon'"
   ]
  },
  {
   "cell_type": "code",
   "execution_count": 115,
   "id": "e93f91bb",
   "metadata": {},
   "outputs": [],
   "source": [
    "finalshannon=filteredbabies[bothshannon]"
   ]
  },
  {
   "cell_type": "code",
   "execution_count": 151,
   "id": "bd34c8a9",
   "metadata": {},
   "outputs": [
    {
     "data": {
      "image/png": "[encoded data removed]",
      "text/plain": [
       "<Figure size 1152x648 with 1 Axes>"
      ]
     },
     "metadata": {},
     "output_type": "display_data"
    }
   ],
   "source": [
    "plt.style.use('seaborn-dark')\n",
    "\n",
    "plt.figure(figsize=(16,9))\n",
    "\n",
    "#plt.yscale(\"log\")\n",
    "\n",
    "plt.xlabel(\"years\")\n",
    "plt.ylabel(\"frequency\")\n",
    "\n",
    "x=finalshannon['year'][finalshannon['gender']=='M']\n",
    "y=finalshannon['frequency'][finalshannon['gender']=='M']\n",
    "\n",
    "a=finalshannon['year'][finalshannon['gender']=='F']\n",
    "z=finalshannon['frequency'][finalshannon['gender']=='F']\n",
    "\n",
    "#plt.plot(finalcarter['gender']=='M')\n",
    "#plt.plot(finalcarter['gender'])\n",
    "plt.plot(x,y,label='male shannon')\n",
    "plt.plot(a,z,label='female shannon')\n",
    "\n",
    "#plt.plot(finalcarter['year'],finalcarter['frequency'],finalcarter['gender']=='M'])\n",
    "#plt.plot(finalcarter['year'],finalcarter['frequency'], finalcarter['gender']=='F'])\n",
    "\n",
    "plt.grid()\n",
    "\n",
    "plt.title(\"Shannon\")\n",
    "plt.savefig('Shannon.png')\n",
    "plt.legend();"
   ]
  },
  {
   "cell_type": "code",
   "execution_count": 122,
   "id": "31cbc7eb",
   "metadata": {},
   "outputs": [],
   "source": [
    "bothtaylor=filteredbabies['name']=='Taylor'"
   ]
  },
  {
   "cell_type": "code",
   "execution_count": 123,
   "id": "de6b6492",
   "metadata": {},
   "outputs": [],
   "source": [
    "finaltaylor=filteredbabies[bothtaylor]"
   ]
  },
  {
   "cell_type": "code",
   "execution_count": 152,
   "id": "df4e9fd4",
   "metadata": {},
   "outputs": [
    {
     "data": {
      "image/png": "[encoded data removed]",
      "text/plain": [
       "<Figure size 1152x648 with 1 Axes>"
      ]
     },
     "metadata": {},
     "output_type": "display_data"
    }
   ],
   "source": [
    "plt.style.use('seaborn-dark')\n",
    "\n",
    "plt.figure(figsize=(16,9))\n",
    "\n",
    "#plt.yscale(\"log\")\n",
    "plt.xlabel(\"years\")\n",
    "plt.ylabel(\"frequency\")\n",
    "\n",
    "x=finaltaylor['year'][finaltaylor['gender']=='M']\n",
    "y=finaltaylor['frequency'][finaltaylor['gender']=='M']\n",
    "\n",
    "a=finaltaylor['year'][finaltaylor['gender']=='F']\n",
    "z=finaltaylor['frequency'][finaltaylor['gender']=='F']\n",
    "\n",
    "#plt.plot(finalcarter['gender']=='M')\n",
    "#plt.plot(finalcarter['gender'])\n",
    "plt.plot(x,y,label='male taylor')\n",
    "plt.plot(a,z,label='female taylor')\n",
    "\n",
    "#plt.plot(finalcarter['year'],finalcarter['frequency'],finalcarter['gender']=='M'])\n",
    "#plt.plot(finalcarter['year'],finalcarter['frequency'], finalcarter['gender']=='F'])\n",
    "\n",
    "plt.title(\"Taylor\")\n",
    "plt.legend()\n",
    "plt.grid()\n",
    "plt.savefig('Taylor.png');"
   ]
  },
  {
   "cell_type": "code",
   "execution_count": 132,
   "id": "fa35dfb7",
   "metadata": {},
   "outputs": [],
   "source": [
    "bothcharlie=filteredbabies['name']=='Charlie'"
   ]
  },
  {
   "cell_type": "code",
   "execution_count": 133,
   "id": "e9b777d7",
   "metadata": {},
   "outputs": [],
   "source": [
    "finalcharlie=filteredbabies[bothcharlie]"
   ]
  },
  {
   "cell_type": "code",
   "execution_count": 153,
   "id": "279869b3",
   "metadata": {},
   "outputs": [
    {
     "data": {
      "image/png": "[encoded data removed]",
      "text/plain": [
       "<Figure size 1152x648 with 1 Axes>"
      ]
     },
     "metadata": {},
     "output_type": "display_data"
    }
   ],
   "source": [
    "plt.style.use('seaborn-dark')\n",
    "\n",
    "plt.figure(figsize=(16,9))\n",
    "\n",
    "#plt.yscale(\"log\")\n",
    "plt.xlabel(\"years\")\n",
    "plt.ylabel(\"frequency\")\n",
    "\n",
    "x=finalcharlie['year'][finalcharlie['gender']=='M']\n",
    "y=finalcharlie['frequency'][finalcharlie['gender']=='M']\n",
    "\n",
    "a=finalcharlie['year'][finalcharlie['gender']=='F']\n",
    "z=finalcharlie['frequency'][finalcharlie['gender']=='F']\n",
    "\n",
    "#plt.plot(finalcarter['gender']=='M')\n",
    "#plt.plot(finalcarter['gender'])\n",
    "plt.plot(x,y,label='male charlie')\n",
    "plt.plot(a,z,label='female charlie')\n",
    "\n",
    "#plt.plot(finalcarter['year'],finalcarter['frequency'],finalcarter['gender']=='M'])\n",
    "#plt.plot(finalcarter['year'],finalcarter['frequency'], finalcarter['gender']=='F'])\n",
    "\n",
    "plt.title(\"Baby names\")\n",
    "plt.legend()\n",
    "plt.grid()\n",
    "plt.savefig('Charlie.png');"
   ]
  },
  {
   "cell_type": "markdown",
   "id": "bf1cbc34",
   "metadata": {},
   "source": [
    "### with the less genderized names I could prove my thoughts that the difference in frequency between both genders is shrinking with the time. I was expecting that in every case , those names where used also more by both genders, but that was not the case. In some samples the name is used more and in some less, but in every case the difference in the frequency for both genders is shrinking. "
   ]
  }
 ],
 "metadata": {
  "kernelspec": {
   "display_name": "Python 3 (ipykernel)",
   "language": "python",
   "name": "python3"
  },
  "language_info": {
   "codemirror_mode": {
    "name": "ipython",
    "version": 3
   },
   "file_extension": ".py",
   "mimetype": "text/x-python",
   "name": "python",
   "nbconvert_exporter": "python",
   "pygments_lexer": "ipython3",
   "version": "3.9.12"
  }
 },
 "nbformat": 4,
 "nbformat_minor": 5
}
