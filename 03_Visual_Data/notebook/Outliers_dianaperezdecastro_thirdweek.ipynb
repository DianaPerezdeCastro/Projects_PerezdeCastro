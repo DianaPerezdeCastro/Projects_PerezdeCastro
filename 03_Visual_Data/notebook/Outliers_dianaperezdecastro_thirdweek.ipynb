{
 "cells": [
  {
   "cell_type": "code",
   "execution_count": 2,
   "id": "8168cb3a",
   "metadata": {},
   "outputs": [],
   "source": [
    "import pandas as pd\n",
    "\n",
    "import matplotlib.pyplot as plt\n",
    "import seaborn as sns"
   ]
  },
  {
   "cell_type": "markdown",
   "id": "fda05ce1",
   "metadata": {},
   "source": [
    "### Calling the data"
   ]
  },
  {
   "cell_type": "code",
   "execution_count": 3,
   "id": "997de55e",
   "metadata": {},
   "outputs": [],
   "source": [
    "countries=pd.read_csv('../data/gapminder_total.csv', index_col=0)"
   ]
  },
  {
   "cell_type": "markdown",
   "id": "aae8e7bc",
   "metadata": {},
   "source": [
    "### seeing the first lines of the dataframe"
   ]
  },
  {
   "cell_type": "code",
   "execution_count": 4,
   "id": "66e68aaf",
   "metadata": {},
   "outputs": [
    {
     "data": {
      "text/html": [
       "<div>\n",
       "<style scoped>\n",
       "    .dataframe tbody tr th:only-of-type {\n",
       "        vertical-align: middle;\n",
       "    }\n",
       "\n",
       "    .dataframe tbody tr th {\n",
       "        vertical-align: top;\n",
       "    }\n",
       "\n",
       "    .dataframe thead th {\n",
       "        text-align: right;\n",
       "    }\n",
       "</style>\n",
       "<table border=\"1\" class=\"dataframe\">\n",
       "  <thead>\n",
       "    <tr style=\"text-align: right;\">\n",
       "      <th></th>\n",
       "      <th>country</th>\n",
       "      <th>year</th>\n",
       "      <th>life expectancy</th>\n",
       "      <th>continent</th>\n",
       "      <th>fertility</th>\n",
       "      <th>population</th>\n",
       "    </tr>\n",
       "  </thead>\n",
       "  <tbody>\n",
       "    <tr>\n",
       "      <th>0</th>\n",
       "      <td>Afghanistan</td>\n",
       "      <td>1950</td>\n",
       "      <td>26.85</td>\n",
       "      <td>Asia</td>\n",
       "      <td>7.67</td>\n",
       "      <td>7752118.0</td>\n",
       "    </tr>\n",
       "    <tr>\n",
       "      <th>1</th>\n",
       "      <td>Afghanistan</td>\n",
       "      <td>1951</td>\n",
       "      <td>27.13</td>\n",
       "      <td>Asia</td>\n",
       "      <td>7.67</td>\n",
       "      <td>7839426.0</td>\n",
       "    </tr>\n",
       "    <tr>\n",
       "      <th>2</th>\n",
       "      <td>Afghanistan</td>\n",
       "      <td>1952</td>\n",
       "      <td>27.67</td>\n",
       "      <td>Asia</td>\n",
       "      <td>7.67</td>\n",
       "      <td>7934798.0</td>\n",
       "    </tr>\n",
       "    <tr>\n",
       "      <th>3</th>\n",
       "      <td>Afghanistan</td>\n",
       "      <td>1953</td>\n",
       "      <td>28.19</td>\n",
       "      <td>Asia</td>\n",
       "      <td>7.67</td>\n",
       "      <td>8038312.0</td>\n",
       "    </tr>\n",
       "    <tr>\n",
       "      <th>4</th>\n",
       "      <td>Afghanistan</td>\n",
       "      <td>1954</td>\n",
       "      <td>28.73</td>\n",
       "      <td>Asia</td>\n",
       "      <td>7.67</td>\n",
       "      <td>8150037.0</td>\n",
       "    </tr>\n",
       "  </tbody>\n",
       "</table>\n",
       "</div>"
      ],
      "text/plain": [
       "       country  year  life expectancy continent  fertility  population\n",
       "0  Afghanistan  1950            26.85      Asia       7.67   7752118.0\n",
       "1  Afghanistan  1951            27.13      Asia       7.67   7839426.0\n",
       "2  Afghanistan  1952            27.67      Asia       7.67   7934798.0\n",
       "3  Afghanistan  1953            28.19      Asia       7.67   8038312.0\n",
       "4  Afghanistan  1954            28.73      Asia       7.67   8150037.0"
      ]
     },
     "execution_count": 4,
     "metadata": {},
     "output_type": "execute_result"
    }
   ],
   "source": [
    "countries.head()"
   ]
  },
  {
   "cell_type": "markdown",
   "id": "1252f6cc",
   "metadata": {},
   "source": [
    "### Finding out the min life expectancy ever in Africa"
   ]
  },
  {
   "cell_type": "code",
   "execution_count": 7,
   "id": "ba50f868",
   "metadata": {},
   "outputs": [],
   "source": [
    "africa=countries[countries['continent']=='Africa']"
   ]
  },
  {
   "cell_type": "code",
   "execution_count": 14,
   "id": "9a87746b",
   "metadata": {},
   "outputs": [
    {
     "data": {
      "text/plain": [
       "13.2"
      ]
     },
     "execution_count": 14,
     "metadata": {},
     "output_type": "execute_result"
    }
   ],
   "source": [
    "africa['life expectancy'].min()"
   ]
  },
  {
   "cell_type": "code",
   "execution_count": 8,
   "id": "f8c38fa3",
   "metadata": {},
   "outputs": [
    {
     "data": {
      "text/plain": [
       "8294    Rwanda\n",
       "Name: country, dtype: object"
      ]
     },
     "execution_count": 8,
     "metadata": {},
     "output_type": "execute_result"
    }
   ],
   "source": [
    "africa['country'][africa['life expectancy']==africa['life expectancy'].min()]"
   ]
  },
  {
   "cell_type": "markdown",
   "id": "8066a181",
   "metadata": {},
   "source": [
    "### Finding out the min life expectancy ever in Asia"
   ]
  },
  {
   "cell_type": "code",
   "execution_count": 11,
   "id": "b595788c",
   "metadata": {},
   "outputs": [],
   "source": [
    "asia=countries[countries['continent']=='Asia']"
   ]
  },
  {
   "cell_type": "code",
   "execution_count": 108,
   "id": "7540776e",
   "metadata": {},
   "outputs": [
    {
     "data": {
      "text/html": [
       "<div>\n",
       "<style scoped>\n",
       "    .dataframe tbody tr th:only-of-type {\n",
       "        vertical-align: middle;\n",
       "    }\n",
       "\n",
       "    .dataframe tbody tr th {\n",
       "        vertical-align: top;\n",
       "    }\n",
       "\n",
       "    .dataframe thead th {\n",
       "        text-align: right;\n",
       "    }\n",
       "</style>\n",
       "<table border=\"1\" class=\"dataframe\">\n",
       "  <thead>\n",
       "    <tr style=\"text-align: right;\">\n",
       "      <th></th>\n",
       "      <th>country</th>\n",
       "      <th>year</th>\n",
       "      <th>life expectancy</th>\n",
       "      <th>continent</th>\n",
       "      <th>fertility</th>\n",
       "      <th>population</th>\n",
       "    </tr>\n",
       "  </thead>\n",
       "  <tbody>\n",
       "    <tr>\n",
       "      <th>132</th>\n",
       "      <td>Algeria</td>\n",
       "      <td>1950</td>\n",
       "      <td>42.77</td>\n",
       "      <td>Africa</td>\n",
       "      <td>7.65</td>\n",
       "      <td>8872247.0</td>\n",
       "    </tr>\n",
       "    <tr>\n",
       "      <th>133</th>\n",
       "      <td>Algeria</td>\n",
       "      <td>1951</td>\n",
       "      <td>43.03</td>\n",
       "      <td>Africa</td>\n",
       "      <td>7.65</td>\n",
       "      <td>9039913.0</td>\n",
       "    </tr>\n",
       "    <tr>\n",
       "      <th>134</th>\n",
       "      <td>Algeria</td>\n",
       "      <td>1952</td>\n",
       "      <td>43.50</td>\n",
       "      <td>Africa</td>\n",
       "      <td>7.65</td>\n",
       "      <td>9216395.0</td>\n",
       "    </tr>\n",
       "    <tr>\n",
       "      <th>135</th>\n",
       "      <td>Algeria</td>\n",
       "      <td>1953</td>\n",
       "      <td>43.96</td>\n",
       "      <td>Africa</td>\n",
       "      <td>7.65</td>\n",
       "      <td>9405445.0</td>\n",
       "    </tr>\n",
       "    <tr>\n",
       "      <th>136</th>\n",
       "      <td>Algeria</td>\n",
       "      <td>1954</td>\n",
       "      <td>44.44</td>\n",
       "      <td>Africa</td>\n",
       "      <td>7.65</td>\n",
       "      <td>9609507.0</td>\n",
       "    </tr>\n",
       "    <tr>\n",
       "      <th>...</th>\n",
       "      <td>...</td>\n",
       "      <td>...</td>\n",
       "      <td>...</td>\n",
       "      <td>...</td>\n",
       "      <td>...</td>\n",
       "      <td>...</td>\n",
       "    </tr>\n",
       "    <tr>\n",
       "      <th>11083</th>\n",
       "      <td>Zimbabwe</td>\n",
       "      <td>2011</td>\n",
       "      <td>51.60</td>\n",
       "      <td>Africa</td>\n",
       "      <td>3.64</td>\n",
       "      <td>14255592.0</td>\n",
       "    </tr>\n",
       "    <tr>\n",
       "      <th>11084</th>\n",
       "      <td>Zimbabwe</td>\n",
       "      <td>2012</td>\n",
       "      <td>54.20</td>\n",
       "      <td>Africa</td>\n",
       "      <td>3.56</td>\n",
       "      <td>14565482.0</td>\n",
       "    </tr>\n",
       "    <tr>\n",
       "      <th>11085</th>\n",
       "      <td>Zimbabwe</td>\n",
       "      <td>2013</td>\n",
       "      <td>55.70</td>\n",
       "      <td>Africa</td>\n",
       "      <td>3.49</td>\n",
       "      <td>14898092.0</td>\n",
       "    </tr>\n",
       "    <tr>\n",
       "      <th>11086</th>\n",
       "      <td>Zimbabwe</td>\n",
       "      <td>2014</td>\n",
       "      <td>57.00</td>\n",
       "      <td>Africa</td>\n",
       "      <td>3.41</td>\n",
       "      <td>15245855.0</td>\n",
       "    </tr>\n",
       "    <tr>\n",
       "      <th>11087</th>\n",
       "      <td>Zimbabwe</td>\n",
       "      <td>2015</td>\n",
       "      <td>59.30</td>\n",
       "      <td>Africa</td>\n",
       "      <td>3.35</td>\n",
       "      <td>15602751.0</td>\n",
       "    </tr>\n",
       "  </tbody>\n",
       "</table>\n",
       "<p>3234 rows × 6 columns</p>\n",
       "</div>"
      ],
      "text/plain": [
       "        country  year  life expectancy continent  fertility  population\n",
       "132     Algeria  1950            42.77    Africa       7.65   8872247.0\n",
       "133     Algeria  1951            43.03    Africa       7.65   9039913.0\n",
       "134     Algeria  1952            43.50    Africa       7.65   9216395.0\n",
       "135     Algeria  1953            43.96    Africa       7.65   9405445.0\n",
       "136     Algeria  1954            44.44    Africa       7.65   9609507.0\n",
       "...         ...   ...              ...       ...        ...         ...\n",
       "11083  Zimbabwe  2011            51.60    Africa       3.64  14255592.0\n",
       "11084  Zimbabwe  2012            54.20    Africa       3.56  14565482.0\n",
       "11085  Zimbabwe  2013            55.70    Africa       3.49  14898092.0\n",
       "11086  Zimbabwe  2014            57.00    Africa       3.41  15245855.0\n",
       "11087  Zimbabwe  2015            59.30    Africa       3.35  15602751.0\n",
       "\n",
       "[3234 rows x 6 columns]"
      ]
     },
     "execution_count": 108,
     "metadata": {},
     "output_type": "execute_result"
    }
   ],
   "source": [
    "africa"
   ]
  },
  {
   "cell_type": "code",
   "execution_count": 16,
   "id": "2dc1682c",
   "metadata": {},
   "outputs": [
    {
     "data": {
      "text/plain": [
       "18.1"
      ]
     },
     "execution_count": 16,
     "metadata": {},
     "output_type": "execute_result"
    }
   ],
   "source": [
    "asia['life expectancy'].min()"
   ]
  },
  {
   "cell_type": "code",
   "execution_count": 17,
   "id": "9e371b7e",
   "metadata": {},
   "outputs": [
    {
     "data": {
      "text/plain": [
       "1743    Cambodia\n",
       "Name: country, dtype: object"
      ]
     },
     "execution_count": 17,
     "metadata": {},
     "output_type": "execute_result"
    }
   ],
   "source": [
    "asia['country'][asia['life expectancy']==asia['life expectancy'].min()]"
   ]
  },
  {
   "cell_type": "code",
   "execution_count": 18,
   "id": "b115fdef",
   "metadata": {},
   "outputs": [
    {
     "data": {
      "text/plain": [
       "array(['Afghanistan', 'Albania', 'Algeria', 'Angola',\n",
       "       'Antigua and Barbuda', 'Argentina', 'Armenia', 'Australia',\n",
       "       'Austria', 'Azerbaijan', 'Bahamas', 'Bahrain', 'Bangladesh',\n",
       "       'Barbados', 'Belarus', 'Belgium', 'Belize', 'Benin', 'Bhutan',\n",
       "       'Bolivia', 'Bosnia and Herzegovina', 'Botswana', 'Brazil',\n",
       "       'Brunei', 'Bulgaria', 'Burundi', 'Cambodia', 'Cameroon', 'Canada',\n",
       "       'Cape Verde', 'Central African Republic', 'Chad', 'Chile', 'China',\n",
       "       'Colombia', 'Comoros', 'Costa Rica', 'Croatia', 'Cuba', 'Cyprus',\n",
       "       'Czech Republic', 'Denmark', 'Djibouti', 'Dominican Republic',\n",
       "       'Ecuador', 'Egypt', 'El Salvador', 'Equatorial Guinea', 'Eritrea',\n",
       "       'Estonia', 'Ethiopia', 'Fiji', 'Finland', 'France', 'Gabon',\n",
       "       'Gambia', 'Georgia', 'Germany', 'Ghana', 'Greece', 'Grenada',\n",
       "       'Guatemala', 'Guinea', 'Guinea-Bissau', 'Guyana', 'Haiti',\n",
       "       'Honduras', 'Hungary', 'Iceland', 'India', 'Indonesia', 'Iran',\n",
       "       'Iraq', 'Ireland', 'Israel', 'Italy', 'Jamaica', 'Japan', 'Jordan',\n",
       "       'Kazakhstan', 'Kenya', 'Kiribati', 'North Korea', 'South Korea',\n",
       "       'Kuwait', 'Latvia', 'Lebanon', 'Lesotho', 'Liberia', 'Libya',\n",
       "       'Lithuania', 'Luxembourg', 'Madagascar', 'Malawi', 'Malaysia',\n",
       "       'Maldives', 'Mali', 'Malta', 'Mauritania', 'Mauritius', 'Mexico',\n",
       "       'Moldova', 'Mongolia', 'Montenegro', 'Morocco', 'Mozambique',\n",
       "       'Namibia', 'Nepal', 'Netherlands', 'New Zealand', 'Nicaragua',\n",
       "       'Niger', 'Nigeria', 'Norway', 'Oman', 'Pakistan', 'Panama',\n",
       "       'Papua New Guinea', 'Paraguay', 'Peru', 'Philippines', 'Poland',\n",
       "       'Portugal', 'Qatar', 'Romania', 'Rwanda', 'Samoa',\n",
       "       'Sao Tome and Principe', 'Saudi Arabia', 'Senegal', 'Serbia',\n",
       "       'Seychelles', 'Sierra Leone', 'Singapore', 'Slovenia',\n",
       "       'Solomon Islands', 'Somalia', 'South Africa', 'Spain', 'Sri Lanka',\n",
       "       'Sudan', 'Suriname', 'Swaziland', 'Sweden', 'Switzerland', 'Syria',\n",
       "       'Tajikistan', 'Tanzania', 'Thailand', 'Togo', 'Tonga',\n",
       "       'Trinidad and Tobago', 'Tunisia', 'Turkey', 'Turkmenistan',\n",
       "       'Uganda', 'Ukraine', 'United Arab Emirates', 'United Kingdom',\n",
       "       'United States', 'Uruguay', 'Uzbekistan', 'Vanuatu', 'Venezuela',\n",
       "       'Vietnam', 'Yemen', 'Zambia', 'Zimbabwe'], dtype=object)"
      ]
     },
     "execution_count": 18,
     "metadata": {},
     "output_type": "execute_result"
    }
   ],
   "source": [
    "countries_list = countries['country'].unique()\n",
    "countries_list"
   ]
  },
  {
   "cell_type": "code",
   "execution_count": 19,
   "id": "fb98eeee",
   "metadata": {},
   "outputs": [
    {
     "data": {
      "text/html": [
       "<div>\n",
       "<style scoped>\n",
       "    .dataframe tbody tr th:only-of-type {\n",
       "        vertical-align: middle;\n",
       "    }\n",
       "\n",
       "    .dataframe tbody tr th {\n",
       "        vertical-align: top;\n",
       "    }\n",
       "\n",
       "    .dataframe thead th {\n",
       "        text-align: right;\n",
       "    }\n",
       "</style>\n",
       "<table border=\"1\" class=\"dataframe\">\n",
       "  <thead>\n",
       "    <tr style=\"text-align: right;\">\n",
       "      <th></th>\n",
       "      <th>country</th>\n",
       "      <th>year</th>\n",
       "      <th>life expectancy</th>\n",
       "      <th>continent</th>\n",
       "      <th>fertility</th>\n",
       "      <th>population</th>\n",
       "    </tr>\n",
       "  </thead>\n",
       "  <tbody>\n",
       "    <tr>\n",
       "      <th>0</th>\n",
       "      <td>Afghanistan</td>\n",
       "      <td>1950</td>\n",
       "      <td>26.85</td>\n",
       "      <td>Asia</td>\n",
       "      <td>7.67</td>\n",
       "      <td>7752118.0</td>\n",
       "    </tr>\n",
       "    <tr>\n",
       "      <th>1</th>\n",
       "      <td>Afghanistan</td>\n",
       "      <td>1951</td>\n",
       "      <td>27.13</td>\n",
       "      <td>Asia</td>\n",
       "      <td>7.67</td>\n",
       "      <td>7839426.0</td>\n",
       "    </tr>\n",
       "    <tr>\n",
       "      <th>2</th>\n",
       "      <td>Afghanistan</td>\n",
       "      <td>1952</td>\n",
       "      <td>27.67</td>\n",
       "      <td>Asia</td>\n",
       "      <td>7.67</td>\n",
       "      <td>7934798.0</td>\n",
       "    </tr>\n",
       "    <tr>\n",
       "      <th>3</th>\n",
       "      <td>Afghanistan</td>\n",
       "      <td>1953</td>\n",
       "      <td>28.19</td>\n",
       "      <td>Asia</td>\n",
       "      <td>7.67</td>\n",
       "      <td>8038312.0</td>\n",
       "    </tr>\n",
       "    <tr>\n",
       "      <th>4</th>\n",
       "      <td>Afghanistan</td>\n",
       "      <td>1954</td>\n",
       "      <td>28.73</td>\n",
       "      <td>Asia</td>\n",
       "      <td>7.67</td>\n",
       "      <td>8150037.0</td>\n",
       "    </tr>\n",
       "    <tr>\n",
       "      <th>...</th>\n",
       "      <td>...</td>\n",
       "      <td>...</td>\n",
       "      <td>...</td>\n",
       "      <td>...</td>\n",
       "      <td>...</td>\n",
       "      <td>...</td>\n",
       "    </tr>\n",
       "    <tr>\n",
       "      <th>11083</th>\n",
       "      <td>Zimbabwe</td>\n",
       "      <td>2011</td>\n",
       "      <td>51.60</td>\n",
       "      <td>Africa</td>\n",
       "      <td>3.64</td>\n",
       "      <td>14255592.0</td>\n",
       "    </tr>\n",
       "    <tr>\n",
       "      <th>11084</th>\n",
       "      <td>Zimbabwe</td>\n",
       "      <td>2012</td>\n",
       "      <td>54.20</td>\n",
       "      <td>Africa</td>\n",
       "      <td>3.56</td>\n",
       "      <td>14565482.0</td>\n",
       "    </tr>\n",
       "    <tr>\n",
       "      <th>11085</th>\n",
       "      <td>Zimbabwe</td>\n",
       "      <td>2013</td>\n",
       "      <td>55.70</td>\n",
       "      <td>Africa</td>\n",
       "      <td>3.49</td>\n",
       "      <td>14898092.0</td>\n",
       "    </tr>\n",
       "    <tr>\n",
       "      <th>11086</th>\n",
       "      <td>Zimbabwe</td>\n",
       "      <td>2014</td>\n",
       "      <td>57.00</td>\n",
       "      <td>Africa</td>\n",
       "      <td>3.41</td>\n",
       "      <td>15245855.0</td>\n",
       "    </tr>\n",
       "    <tr>\n",
       "      <th>11087</th>\n",
       "      <td>Zimbabwe</td>\n",
       "      <td>2015</td>\n",
       "      <td>59.30</td>\n",
       "      <td>Africa</td>\n",
       "      <td>3.35</td>\n",
       "      <td>15602751.0</td>\n",
       "    </tr>\n",
       "  </tbody>\n",
       "</table>\n",
       "<p>11088 rows × 6 columns</p>\n",
       "</div>"
      ],
      "text/plain": [
       "           country  year  life expectancy continent  fertility  population\n",
       "0      Afghanistan  1950            26.85      Asia       7.67   7752118.0\n",
       "1      Afghanistan  1951            27.13      Asia       7.67   7839426.0\n",
       "2      Afghanistan  1952            27.67      Asia       7.67   7934798.0\n",
       "3      Afghanistan  1953            28.19      Asia       7.67   8038312.0\n",
       "4      Afghanistan  1954            28.73      Asia       7.67   8150037.0\n",
       "...            ...   ...              ...       ...        ...         ...\n",
       "11083     Zimbabwe  2011            51.60    Africa       3.64  14255592.0\n",
       "11084     Zimbabwe  2012            54.20    Africa       3.56  14565482.0\n",
       "11085     Zimbabwe  2013            55.70    Africa       3.49  14898092.0\n",
       "11086     Zimbabwe  2014            57.00    Africa       3.41  15245855.0\n",
       "11087     Zimbabwe  2015            59.30    Africa       3.35  15602751.0\n",
       "\n",
       "[11088 rows x 6 columns]"
      ]
     },
     "execution_count": 19,
     "metadata": {},
     "output_type": "execute_result"
    }
   ],
   "source": [
    "countries"
   ]
  },
  {
   "cell_type": "code",
   "execution_count": null,
   "id": "1d271fa5",
   "metadata": {},
   "outputs": [],
   "source": []
  },
  {
   "cell_type": "markdown",
   "id": "3737987a",
   "metadata": {},
   "source": [
    "### Sample one year "
   ]
  },
  {
   "cell_type": "code",
   "execution_count": 63,
   "id": "d7752782",
   "metadata": {},
   "outputs": [
    {
     "data": {
      "image/png": "[encoded data removed]",
      "text/plain": [
       "<Figure size 800x440 with 1 Axes>"
      ]
     },
     "metadata": {},
     "output_type": "display_data"
    }
   ],
   "source": [
    "pathall='./GIF_all_countries/'\n",
    "\n",
    "year=1950\n",
    "df_year=countries.loc[countries['year']==year]\n",
    "\n",
    "#plt.style.use('dark_background\")\n",
    "plt.figure(figsize= (10, 5.5))\n",
    "plt.style.use('seaborn-ticks')\n",
    "sns.scatterplot(data = df_year, x ='life expectancy',y ='fertility',\n",
    "                size='population',\n",
    "                sizes=(50,2500),\n",
    "                hue='country',\n",
    "\n",
    "                palette ='bright',legend = None)\n",
    "\n",
    "plt.title(f'Life expectancy and Fertility - {year}')\n",
    "plt.xticks(rotation=0)\n",
    "plt.axis([0,90,0,9])\n",
    "plt.grid()\n",
    "plt.savefig(f'{pathall}plot_{year}.jpg');\n"
   ]
  },
  {
   "cell_type": "markdown",
   "id": "5bb995d6",
   "metadata": {},
   "source": [
    "### Code for countries in Africa, focus on Rwanda"
   ]
  },
  {
   "cell_type": "code",
   "execution_count": 64,
   "id": "04d3764e",
   "metadata": {},
   "outputs": [],
   "source": [
    "pathall='./GIF_all_countries/'\n",
    "\n",
    "for year in range(1950,2016):\n",
    "    \n",
    "    df_year=countries.loc[(countries['year']==year) & (countries['continent'].isin(['Africa']))]\n",
    "    country_name= 'Rwanda'\n",
    "    x_x=df_year['life expectancy'][df_year['country']==country_name]\n",
    "    y_y=df_year['fertility'][df_year['country']==country_name]\n",
    "    \n",
    "    plt.style.use('seaborn-ticks')\n",
    "    plt.figure(figsize= (10, 5.5))\n",
    "    sns.scatterplot(data = df_year, x ='life expectancy',y ='fertility',\n",
    "                    size='population',\n",
    "                    sizes=(50,2500),\n",
    "                    hue='country',\n",
    "                    \n",
    "                    palette ='bright',legend = None)\n",
    "    \n",
    "    plt.text(x_x,y_y,country_name)\n",
    "    plt.title(f'LIFE EXPECTANCY VS FERTILITY IN AFRICA- {year}')\n",
    "    plt.xticks(rotation=0)\n",
    "    plt.axis([0,90,0,9])\n",
    "    plt.grid()\n",
    "    plt.savefig(f'{pathall}plot_{year}.jpg')\n",
    "    plt.close(); \n"
   ]
  },
  {
   "cell_type": "code",
   "execution_count": 65,
   "id": "b446fca8",
   "metadata": {},
   "outputs": [],
   "source": [
    "import imageio\n",
    "\n",
    "images = []\n",
    "\n",
    "for year in range(1950, 2016):\n",
    "    filename = f'{pathall}plot_{year}.jpg'\n",
    "    images.append(imageio.imread(filename))\n",
    "\n",
    "imageio.mimsave('Africa.gif', images, fps=5)"
   ]
  },
  {
   "cell_type": "markdown",
   "id": "7f811bc7",
   "metadata": {},
   "source": [
    "### Code for countries in Asia, focus on Cambodia"
   ]
  },
  {
   "cell_type": "code",
   "execution_count": 66,
   "id": "d97fa6a0",
   "metadata": {},
   "outputs": [],
   "source": [
    "pathall='./GIF_all_countries/'\n",
    "\n",
    "for year in range(1950,2016):\n",
    "    \n",
    "    df_year=countries.loc[(countries['year']==year) & (countries['continent'].isin(['Asia']))]\n",
    "    country_name= 'Cambodia'\n",
    "    x_x=df_year['life expectancy'][df_year['country']==country_name]\n",
    "    y_y=df_year['fertility'][df_year['country']==country_name]\n",
    "    \n",
    "    plt.style.use('classic')\n",
    "    plt.figure(figsize= (10, 5.5))\n",
    "    \n",
    "    sns.scatterplot(data = df_year, x ='life expectancy',y ='fertility',\n",
    "                    size='population',\n",
    "                    sizes=(50,2500),\n",
    "                    hue='country',\n",
    "                    \n",
    "                    palette ='bright',legend = None)\n",
    "    \n",
    "    plt.text(x_x,y_y,country_name)\n",
    "    plt.title(f'LIFE EXPECTANCY VS FERTILITY IN ASIA - {year}')\n",
    "    plt.xticks(rotation=0)\n",
    "    plt.axis([0,90,0,9])\n",
    "    plt.grid()\n",
    "    plt.savefig(f'{pathall}plot_{year}.jpg')\n",
    "    plt.close(); "
   ]
  },
  {
   "cell_type": "code",
   "execution_count": 67,
   "id": "0ceaa906",
   "metadata": {},
   "outputs": [],
   "source": [
    "import imageio\n",
    "\n",
    "images = []\n",
    "\n",
    "for year in range(1950, 2016):\n",
    "    filename = f'{pathall}plot_{year}.jpg'\n",
    "    images.append(imageio.imread(filename))\n",
    "\n",
    "imageio.mimsave('Asia.gif', images, fps=5)"
   ]
  },
  {
   "cell_type": "markdown",
   "id": "c4c2341a",
   "metadata": {},
   "source": [
    "### Springs from Cambodia and Rwanda, reflect two genocides that took place on the mentioned countries, in 1994 for Rwanda and in the 70s for Cambodia. Attention to Outliers, we have to question the quality of data but not take for granted that that is always the reason behind outliers. "
   ]
  }
 ],
 "metadata": {
  "kernelspec": {
   "display_name": "Python 3 (ipykernel)",
   "language": "python",
   "name": "python3"
  },
  "language_info": {
   "codemirror_mode": {
    "name": "ipython",
    "version": 3
   },
   "file_extension": ".py",
   "mimetype": "text/x-python",
   "name": "python",
   "nbconvert_exporter": "python",
   "pygments_lexer": "ipython3",
   "version": "3.9.12"
  }
 },
 "nbformat": 4,
 "nbformat_minor": 5
}
